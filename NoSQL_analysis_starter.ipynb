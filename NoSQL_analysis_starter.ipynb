{
 "cells": [
  {
   "cell_type": "markdown",
   "id": "9a57c4c6",
   "metadata": {},
   "source": [
    "# Eat Safe, Love"
   ]
  },
  {
   "cell_type": "markdown",
   "id": "064ef857",
   "metadata": {},
   "source": [
    "## Notebook Set Up"
   ]
  },
  {
   "cell_type": "code",
   "execution_count": 1,
   "id": "3ecdd008",
   "metadata": {},
   "outputs": [
    {
     "name": "stderr",
     "output_type": "stream",
     "text": [
      "C:\\Users\\lisal\\AppData\\Roaming\\Python\\Python311\\site-packages\\pandas\\core\\arrays\\masked.py:60: UserWarning: Pandas requires version '1.3.6' or newer of 'bottleneck' (version '1.3.5' currently installed).\n",
      "  from pandas.core import (\n"
     ]
    }
   ],
   "source": [
    "from pymongo import MongoClient\n",
    "import pandas as pd\n",
    "from pprint import pprint"
   ]
  },
  {
   "cell_type": "code",
   "execution_count": 2,
   "id": "59390c4a",
   "metadata": {},
   "outputs": [],
   "source": [
    "# Create an instance of MongoClient\n",
    "mongo = MongoClient(port=27017)"
   ]
  },
  {
   "cell_type": "code",
   "execution_count": 3,
   "id": "71e373c1",
   "metadata": {},
   "outputs": [],
   "source": [
    "# assign the uk_food database to a variable name\n",
    "db = mongo['uk_food']"
   ]
  },
  {
   "cell_type": "code",
   "execution_count": 5,
   "id": "18ab463c",
   "metadata": {},
   "outputs": [
    {
     "name": "stdout",
     "output_type": "stream",
     "text": [
      "Collections in 'uk_food' database: ['establishments']\n"
     ]
    }
   ],
   "source": [
    "# review the collections in our database\n",
    "from pymongo import MongoClient\n",
    "\n",
    "# Connect to MongoDB\n",
    "client = MongoClient('mongodb://localhost:27017/')\n",
    "\n",
    "# Select the 'uk_food' database\n",
    "db = client['uk_food']\n",
    "\n",
    "# List all collections in the 'uk_food' database\n",
    "collections = db.list_collection_names()\n",
    "\n",
    "# Print the list of collections\n",
    "print(\"Collections in 'uk_food' database:\", collections)\n",
    "\n"
   ]
  },
  {
   "cell_type": "code",
   "execution_count": 6,
   "id": "11c9f11b",
   "metadata": {},
   "outputs": [],
   "source": [
    "# assign the collection to a variable\n",
    "establishments = db['establishments']"
   ]
  },
  {
   "cell_type": "markdown",
   "id": "d5671434",
   "metadata": {},
   "source": [
    "## Part 3: Exploratory Analysis\n",
    "Unless otherwise stated, for each question: \n",
    "* Use `count_documents` to display the number of documents contained in the result.\n",
    "* Display the first document in the results using `pprint`.\n",
    "* Convert the result to a Pandas DataFrame, print the number of rows in the DataFrame, and display the first 10 rows."
   ]
  },
  {
   "cell_type": "markdown",
   "id": "314bd884",
   "metadata": {},
   "source": [
    "### 1. Which establishments have a hygiene score equal to 20?"
   ]
  },
  {
   "cell_type": "code",
   "execution_count": 7,
   "id": "c2da7648",
   "metadata": {},
   "outputs": [
    {
     "name": "stdout",
     "output_type": "stream",
     "text": [
      "Number of establishments with a hygiene score of 20: 41\n",
      "First establishment with a hygiene score of 20:\n",
      "{'AddressLine1': '5-6 Southfields Road',\n",
      " 'AddressLine2': 'Eastbourne',\n",
      " 'AddressLine3': 'East Sussex',\n",
      " 'AddressLine4': '',\n",
      " 'BusinessName': 'The Chase Rest Home',\n",
      " 'BusinessType': 'Caring Premises',\n",
      " 'BusinessTypeID': 5,\n",
      " 'ChangesByServerID': 0,\n",
      " 'Distance': 4613.888288172291,\n",
      " 'FHRSID': 110681,\n",
      " 'LocalAuthorityBusinessID': '4029',\n",
      " 'LocalAuthorityCode': '102',\n",
      " 'LocalAuthorityEmailAddress': 'Customerfirst@eastbourne.gov.uk',\n",
      " 'LocalAuthorityName': 'Eastbourne',\n",
      " 'LocalAuthorityWebSite': 'http://www.eastbourne.gov.uk/foodratings',\n",
      " 'NewRatingPending': False,\n",
      " 'Phone': '',\n",
      " 'PostCode': 'BN21 1BU',\n",
      " 'RatingDate': '2021-09-23T00:00:00',\n",
      " 'RatingKey': 'fhrs_0_en-gb',\n",
      " 'RatingValue': '0',\n",
      " 'RightToReply': '',\n",
      " 'SchemeType': 'FHRS',\n",
      " '_id': ObjectId('65d7812de7b0e49418b3fb93'),\n",
      " 'geocode': {'latitude': Decimal128('50.769705'),\n",
      "             'longitude': Decimal128('0.27694')},\n",
      " 'links': [{'href': 'https://api.ratings.food.gov.uk/establishments/110681',\n",
      "            'rel': 'self'}],\n",
      " 'meta': {'dataSource': None,\n",
      "          'extractDate': '0001-01-01T00:00:00',\n",
      "          'itemCount': 0,\n",
      "          'pageNumber': 0,\n",
      "          'pageSize': 0,\n",
      "          'returncode': None,\n",
      "          'totalCount': 0,\n",
      "          'totalPages': 0},\n",
      " 'scores': {'ConfidenceInManagement': 20, 'Hygiene': 20, 'Structural': 20}}\n",
      "Number of rows in the DataFrame: 41\n",
      "First 10 rows of the DataFrame:\n",
      "                        _id   FHRSID  ChangesByServerID  \\\n",
      "0  65d7812de7b0e49418b3fb93   110681                  0   \n",
      "1  65d7812ee7b0e49418b3ff14   612039                  0   \n",
      "2  65d7812ee7b0e49418b4021e   730933                  0   \n",
      "3  65d7812ee7b0e49418b4040c   172735                  0   \n",
      "4  65d7812ee7b0e49418b4041b   172953                  0   \n",
      "5  65d7812ee7b0e49418b40dba   512854                  0   \n",
      "6  65d7812ee7b0e49418b40fdb  1537089                  0   \n",
      "7  65d7812fe7b0e49418b42506   155648                  0   \n",
      "8  65d7812fe7b0e49418b4294a  1012883                  0   \n",
      "9  65d7812fe7b0e49418b4315c   644109                  0   \n",
      "\n",
      "  LocalAuthorityBusinessID               BusinessName  \\\n",
      "0                     4029        The Chase Rest Home   \n",
      "1                1970/FOOD                 Brenalwood   \n",
      "2                1698/FOOD              Melrose Hotel   \n",
      "3             PI/000023858              Seaford Pizza   \n",
      "4             PI/000024532              Golden Palace   \n",
      "5            12/00816/BUTH           Ashby's Butchers   \n",
      "6          22/00224/RESTUN  South Sea Express Cuisine   \n",
      "7              EH/00006058              Golden Palace   \n",
      "8         17/00110/MIXED/S             The Tulip Tree   \n",
      "9                    41811                      F & S   \n",
      "\n",
      "                        BusinessType  BusinessTypeID           AddressLine1  \\\n",
      "0                    Caring Premises               5   5-6 Southfields Road   \n",
      "1                    Caring Premises               5              Hall Lane   \n",
      "2  Hotel/bed & breakfast/guest house            7842  53 Marine Parade East   \n",
      "3             Takeaway/sandwich shop            7844          4 High Street   \n",
      "4            Restaurant/Cafe/Canteen               1         5 South Street   \n",
      "5                  Retailers - other            4613   777 Southchurch Road   \n",
      "6            Restaurant/Cafe/Canteen               1    33 Alexandra Street   \n",
      "7             Takeaway/sandwich shop            7844          7 London Road   \n",
      "8            Restaurant/Cafe/Canteen               1          3 The Village   \n",
      "9                  Retailers - other            4613                          \n",
      "\n",
      "         AddressLine2 AddressLine3  ...  \\\n",
      "0          Eastbourne  East Sussex  ...   \n",
      "1  Walton-on-the-Naze        Essex  ...   \n",
      "2      Clacton On Sea        Essex  ...   \n",
      "3             Seaford  East Sussex  ...   \n",
      "4             Seaford  East Sussex  ...   \n",
      "5     Southend-On-Sea        Essex  ...   \n",
      "6     Southend-on-sea        Essex  ...   \n",
      "7            Rayleigh        Essex  ...   \n",
      "8       Chiddingstone         KENT  ...   \n",
      "9      81 Southernhay     Basildon  ...   \n",
      "\n",
      "                      LocalAuthorityWebSite  \\\n",
      "0  http://www.eastbourne.gov.uk/foodratings   \n",
      "1             http://www.tendringdc.gov.uk/   \n",
      "2             http://www.tendringdc.gov.uk/   \n",
      "3       http://www.lewes-eastbourne.gov.uk/   \n",
      "4       http://www.lewes-eastbourne.gov.uk/   \n",
      "5                http://www.southend.gov.uk   \n",
      "6                http://www.southend.gov.uk   \n",
      "7                http://www.rochford.gov.uk   \n",
      "8              http://www.sevenoaks.gov.uk/   \n",
      "9                http://www.basildon.gov.uk   \n",
      "\n",
      "              LocalAuthorityEmailAddress  \\\n",
      "0        Customerfirst@eastbourne.gov.uk   \n",
      "1             fhsadmin@tendringdc.gov.uk   \n",
      "2             fhsadmin@tendringdc.gov.uk   \n",
      "3    ehealth.ldc@lewes-eastbourne.gov.uk   \n",
      "4    ehealth.ldc@lewes-eastbourne.gov.uk   \n",
      "5    EnvironmentalHealth@southend.gov.uk   \n",
      "6    EnvironmentalHealth@southend.gov.uk   \n",
      "7       customerservices@rochford.gov.uk   \n",
      "8  environmental.health@sevenoaks.gov.uk   \n",
      "9                    ehs@basildon.gov.uk   \n",
      "\n",
      "                                              scores SchemeType  \\\n",
      "0  {'Hygiene': 20, 'Structural': 20, 'ConfidenceI...       FHRS   \n",
      "1  {'Hygiene': 20, 'Structural': 15, 'ConfidenceI...       FHRS   \n",
      "2  {'Hygiene': 20, 'Structural': 20, 'ConfidenceI...       FHRS   \n",
      "3  {'Hygiene': 20, 'Structural': 10, 'ConfidenceI...       FHRS   \n",
      "4  {'Hygiene': 20, 'Structural': 10, 'ConfidenceI...       FHRS   \n",
      "5  {'Hygiene': 20, 'Structural': 20, 'ConfidenceI...       FHRS   \n",
      "6  {'Hygiene': 20, 'Structural': 20, 'ConfidenceI...       FHRS   \n",
      "7  {'Hygiene': 20, 'Structural': 15, 'ConfidenceI...       FHRS   \n",
      "8  {'Hygiene': 20, 'Structural': 5, 'ConfidenceIn...       FHRS   \n",
      "9  {'Hygiene': 20, 'Structural': 20, 'ConfidenceI...       FHRS   \n",
      "\n",
      "                                             geocode RightToReply  \\\n",
      "0      {'longitude': 0.27694, 'latitude': 50.769705}                \n",
      "1     {'longitude': 1.278721, 'latitude': 51.857536}                \n",
      "2      {'longitude': 1.15927, 'latitude': 51.789429}                \n",
      "3      {'longitude': 0.10202, 'latitude': 50.770885}                \n",
      "4     {'longitude': 0.101446, 'latitude': 50.770724}                \n",
      "5     {'longitude': 0.736349, 'latitude': 51.541448}                \n",
      "6   {'longitude': 0.7121671, 'latitude': 51.5350065}                \n",
      "7     {'longitude': 0.602364, 'latitude': 51.591515}                \n",
      "8  {'longitude': 0.146449998021126, 'latitude': 5...                \n",
      "9      {'longitude': 0.462307, 'latitude': 51.57005}                \n",
      "\n",
      "      Distance NewRatingPending  \\\n",
      "0  4613.888288            False   \n",
      "1  4617.965824            False   \n",
      "2  4619.656144            False   \n",
      "3  4620.421725            False   \n",
      "4  4620.437179            False   \n",
      "5  4625.565258            False   \n",
      "6  4626.200132            False   \n",
      "7  4632.276890            False   \n",
      "8  4633.934041            False   \n",
      "9  4636.552523            False   \n",
      "\n",
      "                                                meta  \\\n",
      "0  {'dataSource': None, 'extractDate': '0001-01-0...   \n",
      "1  {'dataSource': None, 'extractDate': '0001-01-0...   \n",
      "2  {'dataSource': None, 'extractDate': '0001-01-0...   \n",
      "3  {'dataSource': None, 'extractDate': '0001-01-0...   \n",
      "4  {'dataSource': None, 'extractDate': '0001-01-0...   \n",
      "5  {'dataSource': None, 'extractDate': '0001-01-0...   \n",
      "6  {'dataSource': None, 'extractDate': '0001-01-0...   \n",
      "7  {'dataSource': None, 'extractDate': '0001-01-0...   \n",
      "8  {'dataSource': None, 'extractDate': '0001-01-0...   \n",
      "9  {'dataSource': None, 'extractDate': '0001-01-0...   \n",
      "\n",
      "                                               links  \n",
      "0  [{'rel': 'self', 'href': 'https://api.ratings....  \n",
      "1  [{'rel': 'self', 'href': 'https://api.ratings....  \n",
      "2  [{'rel': 'self', 'href': 'https://api.ratings....  \n",
      "3  [{'rel': 'self', 'href': 'https://api.ratings....  \n",
      "4  [{'rel': 'self', 'href': 'https://api.ratings....  \n",
      "5  [{'rel': 'self', 'href': 'https://api.ratings....  \n",
      "6  [{'rel': 'self', 'href': 'https://api.ratings....  \n",
      "7  [{'rel': 'self', 'href': 'http://api.ratings.f...  \n",
      "8  [{'rel': 'self', 'href': 'http://api.ratings.f...  \n",
      "9  [{'rel': 'self', 'href': 'http://api.ratings.f...  \n",
      "\n",
      "[10 rows x 28 columns]\n"
     ]
    }
   ],
   "source": [
    "from pymongo import MongoClient\n",
    "import pandas as pd\n",
    "from pprint import pprint\n",
    "\n",
    "# Connect to MongoDB\n",
    "client = MongoClient('mongodb://localhost:27017/')\n",
    "\n",
    "# Select the 'uk_food' database\n",
    "db = client['uk_food']\n",
    "\n",
    "# Access the 'establishments' collection\n",
    "collection = db['establishments']\n",
    "\n",
    "# Define the query for establishments with a hygiene score of 20\n",
    "query = {\"scores.Hygiene\": 20}\n",
    "\n",
    "# Use count_documents to display the number of documents in the result\n",
    "count = collection.count_documents(query)\n",
    "print(\"Number of establishments with a hygiene score of 20:\", count)\n",
    "\n",
    "# Display the first document in the results using pprint\n",
    "first_document = collection.find_one(query)\n",
    "print(\"First establishment with a hygiene score of 20:\")\n",
    "pprint(first_document)\n",
    "\n",
    "# Convert the result to a Pandas DataFrame\n",
    "documents = collection.find(query)\n",
    "df = pd.DataFrame(list(documents))\n",
    "\n",
    "# Print the number of rows in the DataFrame\n",
    "print(\"Number of rows in the DataFrame:\", len(df))\n",
    "\n",
    "# Display the first 10 rows of the DataFrame\n",
    "print(\"First 10 rows of the DataFrame:\")\n",
    "print(df.head(10))\n",
    "\n"
   ]
  },
  {
   "cell_type": "code",
   "execution_count": 8,
   "id": "a6e5cece",
   "metadata": {},
   "outputs": [
    {
     "name": "stdout",
     "output_type": "stream",
     "text": [
      "Number of rows in the DataFrame: 0\n",
      "First 10 rows of the DataFrame:\n",
      "Empty DataFrame\n",
      "Columns: []\n",
      "Index: []\n"
     ]
    }
   ],
   "source": [
    "import pandas as pd\n",
    "\n",
    "# Convert the query result to a Pandas DataFrame\n",
    "df = pd.DataFrame(documents)\n",
    "\n",
    "# Display the number of rows in the DataFrame\n",
    "print(f\"Number of rows in the DataFrame: {len(df)}\")\n",
    "\n",
    "# Display the first 10 rows of the DataFrame\n",
    "print(\"First 10 rows of the DataFrame:\")\n",
    "print(df.head(10))\n",
    "\n"
   ]
  },
  {
   "cell_type": "code",
   "execution_count": 9,
   "id": "335b6ad5",
   "metadata": {},
   "outputs": [
    {
     "name": "stdout",
     "output_type": "stream",
     "text": [
      "[{'_id': ObjectId('65d7812de7b0e49418b3fb93'), 'FHRSID': 110681, 'ChangesByServerID': 0, 'LocalAuthorityBusinessID': '4029', 'BusinessName': 'The Chase Rest Home', 'BusinessType': 'Caring Premises', 'BusinessTypeID': 5, 'AddressLine1': '5-6 Southfields Road', 'AddressLine2': 'Eastbourne', 'AddressLine3': 'East Sussex', 'AddressLine4': '', 'PostCode': 'BN21 1BU', 'Phone': '', 'RatingValue': '0', 'RatingKey': 'fhrs_0_en-gb', 'RatingDate': '2021-09-23T00:00:00', 'LocalAuthorityCode': '102', 'LocalAuthorityName': 'Eastbourne', 'LocalAuthorityWebSite': 'http://www.eastbourne.gov.uk/foodratings', 'LocalAuthorityEmailAddress': 'Customerfirst@eastbourne.gov.uk', 'scores': {'Hygiene': 20, 'Structural': 20, 'ConfidenceInManagement': 20}, 'SchemeType': 'FHRS', 'geocode': {'longitude': Decimal128('0.27694'), 'latitude': Decimal128('50.769705')}, 'RightToReply': '', 'Distance': 4613.888288172291, 'NewRatingPending': False, 'meta': {'dataSource': None, 'extractDate': '0001-01-01T00:00:00', 'itemCount': 0, 'returncode': None, 'totalCount': 0, 'totalPages': 0, 'pageSize': 0, 'pageNumber': 0}, 'links': [{'rel': 'self', 'href': 'https://api.ratings.food.gov.uk/establishments/110681'}]}, {'_id': ObjectId('65d7812ee7b0e49418b3ff14'), 'FHRSID': 612039, 'ChangesByServerID': 0, 'LocalAuthorityBusinessID': '1970/FOOD', 'BusinessName': 'Brenalwood', 'BusinessType': 'Caring Premises', 'BusinessTypeID': 5, 'AddressLine1': 'Hall Lane', 'AddressLine2': 'Walton-on-the-Naze', 'AddressLine3': 'Essex', 'AddressLine4': '', 'PostCode': 'CO14 8HN', 'Phone': '', 'RatingValue': '0', 'RatingKey': 'fhrs_0_en-gb', 'RatingDate': '2022-06-22T00:00:00', 'LocalAuthorityCode': '120', 'LocalAuthorityName': 'Tendring', 'LocalAuthorityWebSite': 'http://www.tendringdc.gov.uk/', 'LocalAuthorityEmailAddress': 'fhsadmin@tendringdc.gov.uk', 'scores': {'Hygiene': 20, 'Structural': 15, 'ConfidenceInManagement': 30}, 'SchemeType': 'FHRS', 'geocode': {'longitude': Decimal128('1.278721'), 'latitude': Decimal128('51.857536')}, 'RightToReply': '', 'Distance': 4617.965823673803, 'NewRatingPending': False, 'meta': {'dataSource': None, 'extractDate': '0001-01-01T00:00:00', 'itemCount': 0, 'returncode': None, 'totalCount': 0, 'totalPages': 0, 'pageSize': 0, 'pageNumber': 0}, 'links': [{'rel': 'self', 'href': 'https://api.ratings.food.gov.uk/establishments/612039'}]}, {'_id': ObjectId('65d7812ee7b0e49418b4021e'), 'FHRSID': 730933, 'ChangesByServerID': 0, 'LocalAuthorityBusinessID': '1698/FOOD', 'BusinessName': 'Melrose Hotel', 'BusinessType': 'Hotel/bed & breakfast/guest house', 'BusinessTypeID': 7842, 'AddressLine1': '53 Marine Parade East', 'AddressLine2': 'Clacton On Sea', 'AddressLine3': 'Essex', 'AddressLine4': '', 'PostCode': 'CO15 6AD', 'Phone': '', 'RatingValue': '0', 'RatingKey': 'fhrs_0_en-gb', 'RatingDate': '2021-08-13T00:00:00', 'LocalAuthorityCode': '120', 'LocalAuthorityName': 'Tendring', 'LocalAuthorityWebSite': 'http://www.tendringdc.gov.uk/', 'LocalAuthorityEmailAddress': 'fhsadmin@tendringdc.gov.uk', 'scores': {'Hygiene': 20, 'Structural': 20, 'ConfidenceInManagement': 20}, 'SchemeType': 'FHRS', 'geocode': {'longitude': Decimal128('1.15927'), 'latitude': Decimal128('51.789429')}, 'RightToReply': '', 'Distance': 4619.6561440278165, 'NewRatingPending': False, 'meta': {'dataSource': None, 'extractDate': '0001-01-01T00:00:00', 'itemCount': 0, 'returncode': None, 'totalCount': 0, 'totalPages': 0, 'pageSize': 0, 'pageNumber': 0}, 'links': [{'rel': 'self', 'href': 'https://api.ratings.food.gov.uk/establishments/730933'}]}, {'_id': ObjectId('65d7812ee7b0e49418b4040c'), 'FHRSID': 172735, 'ChangesByServerID': 0, 'LocalAuthorityBusinessID': 'PI/000023858', 'BusinessName': 'Seaford Pizza', 'BusinessType': 'Takeaway/sandwich shop', 'BusinessTypeID': 7844, 'AddressLine1': '4 High Street', 'AddressLine2': 'Seaford', 'AddressLine3': 'East Sussex', 'AddressLine4': '', 'PostCode': 'BN25 1PG', 'Phone': '', 'RatingValue': '1', 'RatingKey': 'fhrs_1_en-gb', 'RatingDate': '2021-12-23T00:00:00', 'LocalAuthorityCode': '105', 'LocalAuthorityName': 'Lewes', 'LocalAuthorityWebSite': 'http://www.lewes-eastbourne.gov.uk/', 'LocalAuthorityEmailAddress': 'ehealth.ldc@lewes-eastbourne.gov.uk', 'scores': {'Hygiene': 20, 'Structural': 10, 'ConfidenceInManagement': 20}, 'SchemeType': 'FHRS', 'geocode': {'longitude': Decimal128('0.10202'), 'latitude': Decimal128('50.770885')}, 'RightToReply': '', 'Distance': 4620.421724673841, 'NewRatingPending': False, 'meta': {'dataSource': None, 'extractDate': '0001-01-01T00:00:00', 'itemCount': 0, 'returncode': None, 'totalCount': 0, 'totalPages': 0, 'pageSize': 0, 'pageNumber': 0}, 'links': [{'rel': 'self', 'href': 'https://api.ratings.food.gov.uk/establishments/172735'}]}, {'_id': ObjectId('65d7812ee7b0e49418b4041b'), 'FHRSID': 172953, 'ChangesByServerID': 0, 'LocalAuthorityBusinessID': 'PI/000024532', 'BusinessName': 'Golden Palace', 'BusinessType': 'Restaurant/Cafe/Canteen', 'BusinessTypeID': 1, 'AddressLine1': '5 South Street', 'AddressLine2': 'Seaford', 'AddressLine3': 'East Sussex', 'AddressLine4': '', 'PostCode': 'BN25 1HP', 'Phone': '', 'RatingValue': '1', 'RatingKey': 'fhrs_1_en-gb', 'RatingDate': '2021-10-07T00:00:00', 'LocalAuthorityCode': '105', 'LocalAuthorityName': 'Lewes', 'LocalAuthorityWebSite': 'http://www.lewes-eastbourne.gov.uk/', 'LocalAuthorityEmailAddress': 'ehealth.ldc@lewes-eastbourne.gov.uk', 'scores': {'Hygiene': 20, 'Structural': 10, 'ConfidenceInManagement': 20}, 'SchemeType': 'FHRS', 'geocode': {'longitude': Decimal128('0.101446'), 'latitude': Decimal128('50.770724')}, 'RightToReply': '', 'Distance': 4620.437179097401, 'NewRatingPending': False, 'meta': {'dataSource': None, 'extractDate': '0001-01-01T00:00:00', 'itemCount': 0, 'returncode': None, 'totalCount': 0, 'totalPages': 0, 'pageSize': 0, 'pageNumber': 0}, 'links': [{'rel': 'self', 'href': 'https://api.ratings.food.gov.uk/establishments/172953'}]}, {'_id': ObjectId('65d7812ee7b0e49418b40dba'), 'FHRSID': 512854, 'ChangesByServerID': 0, 'LocalAuthorityBusinessID': '12/00816/BUTH', 'BusinessName': \"Ashby's Butchers\", 'BusinessType': 'Retailers - other', 'BusinessTypeID': 4613, 'AddressLine1': '777 Southchurch Road', 'AddressLine2': 'Southend-On-Sea', 'AddressLine3': 'Essex', 'AddressLine4': '', 'PostCode': 'SS1 2PP', 'Phone': '', 'RatingValue': '0', 'RatingKey': 'fhrs_0_en-gb', 'RatingDate': '2022-07-21T00:00:00', 'LocalAuthorityCode': '893', 'LocalAuthorityName': 'Southend-On-Sea', 'LocalAuthorityWebSite': 'http://www.southend.gov.uk', 'LocalAuthorityEmailAddress': 'EnvironmentalHealth@southend.gov.uk', 'scores': {'Hygiene': 20, 'Structural': 20, 'ConfidenceInManagement': 20}, 'SchemeType': 'FHRS', 'geocode': {'longitude': Decimal128('0.736349'), 'latitude': Decimal128('51.541448')}, 'RightToReply': '', 'Distance': 4625.565258384611, 'NewRatingPending': False, 'meta': {'dataSource': None, 'extractDate': '0001-01-01T00:00:00', 'itemCount': 0, 'returncode': None, 'totalCount': 0, 'totalPages': 0, 'pageSize': 0, 'pageNumber': 0}, 'links': [{'rel': 'self', 'href': 'https://api.ratings.food.gov.uk/establishments/512854'}]}, {'_id': ObjectId('65d7812ee7b0e49418b40fdb'), 'FHRSID': 1537089, 'ChangesByServerID': 0, 'LocalAuthorityBusinessID': '22/00224/RESTUN', 'BusinessName': 'South Sea Express Cuisine', 'BusinessType': 'Restaurant/Cafe/Canteen', 'BusinessTypeID': 1, 'AddressLine1': '33 Alexandra Street', 'AddressLine2': 'Southend-on-sea', 'AddressLine3': 'Essex', 'AddressLine4': '', 'PostCode': 'SS1 1BW', 'Phone': '', 'RatingValue': '0', 'RatingKey': 'fhrs_0_en-gb', 'RatingDate': '2022-08-03T00:00:00', 'LocalAuthorityCode': '893', 'LocalAuthorityName': 'Southend-On-Sea', 'LocalAuthorityWebSite': 'http://www.southend.gov.uk', 'LocalAuthorityEmailAddress': 'EnvironmentalHealth@southend.gov.uk', 'scores': {'Hygiene': 20, 'Structural': 20, 'ConfidenceInManagement': 20}, 'SchemeType': 'FHRS', 'geocode': {'longitude': Decimal128('0.7121671'), 'latitude': Decimal128('51.5350065')}, 'RightToReply': '', 'Distance': 4626.200132034163, 'NewRatingPending': False, 'meta': {'dataSource': None, 'extractDate': '0001-01-01T00:00:00', 'itemCount': 0, 'returncode': None, 'totalCount': 0, 'totalPages': 0, 'pageSize': 0, 'pageNumber': 0}, 'links': [{'rel': 'self', 'href': 'https://api.ratings.food.gov.uk/establishments/1537089'}]}, {'_id': ObjectId('65d7812fe7b0e49418b42506'), 'FHRSID': 155648, 'ChangesByServerID': 0, 'LocalAuthorityBusinessID': 'EH/00006058', 'BusinessName': 'Golden Palace', 'BusinessType': 'Takeaway/sandwich shop', 'BusinessTypeID': 7844, 'AddressLine1': '7 London Road', 'AddressLine2': 'Rayleigh', 'AddressLine3': 'Essex', 'AddressLine4': '', 'PostCode': 'SS6 9HN', 'Phone': '', 'RatingValue': '0', 'RatingKey': 'fhrs_0_en-gb', 'RatingDate': '2022-03-23T00:00:00', 'LocalAuthorityCode': '118', 'LocalAuthorityName': 'Rochford', 'LocalAuthorityWebSite': 'http://www.rochford.gov.uk', 'LocalAuthorityEmailAddress': 'customerservices@rochford.gov.uk', 'scores': {'Hygiene': 20, 'Structural': 15, 'ConfidenceInManagement': 30}, 'SchemeType': 'FHRS', 'geocode': {'longitude': Decimal128('0.602364'), 'latitude': Decimal128('51.591515')}, 'RightToReply': '', 'Distance': 4632.27689004769, 'NewRatingPending': False, 'meta': {'dataSource': None, 'extractDate': '0001-01-01T00:00:00', 'itemCount': 0, 'returncode': None, 'totalCount': 0, 'totalPages': 0, 'pageSize': 0, 'pageNumber': 0}, 'links': [{'rel': 'self', 'href': 'http://api.ratings.food.gov.uk/establishments/155648'}]}, {'_id': ObjectId('65d7812fe7b0e49418b4294a'), 'FHRSID': 1012883, 'ChangesByServerID': 0, 'LocalAuthorityBusinessID': '17/00110/MIXED/S', 'BusinessName': 'The Tulip Tree', 'BusinessType': 'Restaurant/Cafe/Canteen', 'BusinessTypeID': 1, 'AddressLine1': '3 The Village', 'AddressLine2': 'Chiddingstone', 'AddressLine3': 'KENT', 'AddressLine4': '', 'PostCode': 'TN8 7AH', 'Phone': '', 'RatingValue': '1', 'RatingKey': 'fhrs_1_en-gb', 'RatingDate': '2022-03-04T00:00:00', 'LocalAuthorityCode': '187', 'LocalAuthorityName': 'Sevenoaks', 'LocalAuthorityWebSite': 'http://www.sevenoaks.gov.uk/', 'LocalAuthorityEmailAddress': 'environmental.health@sevenoaks.gov.uk', 'scores': {'Hygiene': 20, 'Structural': 5, 'ConfidenceInManagement': 20}, 'SchemeType': 'FHRS', 'geocode': {'longitude': Decimal128('0.146449998021126'), 'latitude': Decimal128('51.1859474182129')}, 'RightToReply': '', 'Distance': 4633.934040834287, 'NewRatingPending': False, 'meta': {'dataSource': None, 'extractDate': '0001-01-01T00:00:00', 'itemCount': 0, 'returncode': None, 'totalCount': 0, 'totalPages': 0, 'pageSize': 0, 'pageNumber': 0}, 'links': [{'rel': 'self', 'href': 'http://api.ratings.food.gov.uk/establishments/1012883'}]}, {'_id': ObjectId('65d7812fe7b0e49418b4315c'), 'FHRSID': 644109, 'ChangesByServerID': 0, 'LocalAuthorityBusinessID': '41811', 'BusinessName': 'F & S', 'BusinessType': 'Retailers - other', 'BusinessTypeID': 4613, 'AddressLine1': '', 'AddressLine2': '81 Southernhay', 'AddressLine3': 'Basildon', 'AddressLine4': 'Essex', 'PostCode': 'SS14 1EU', 'Phone': '', 'RatingValue': '0', 'RatingKey': 'fhrs_0_en-gb', 'RatingDate': '2021-07-26T00:00:00', 'LocalAuthorityCode': '109', 'LocalAuthorityName': 'Basildon', 'LocalAuthorityWebSite': 'http://www.basildon.gov.uk', 'LocalAuthorityEmailAddress': 'ehs@basildon.gov.uk', 'scores': {'Hygiene': 20, 'Structural': 20, 'ConfidenceInManagement': 20}, 'SchemeType': 'FHRS', 'geocode': {'longitude': Decimal128('0.462307'), 'latitude': Decimal128('51.57005')}, 'RightToReply': '', 'Distance': 4636.552523353182, 'NewRatingPending': False, 'meta': {'dataSource': None, 'extractDate': '0001-01-01T00:00:00', 'itemCount': 0, 'returncode': None, 'totalCount': 0, 'totalPages': 0, 'pageSize': 0, 'pageNumber': 0}, 'links': [{'rel': 'self', 'href': 'http://api.ratings.food.gov.uk/establishments/644109'}]}, {'_id': ObjectId('65d7812fe7b0e49418b431cc'), 'FHRSID': 267034, 'ChangesByServerID': 0, 'LocalAuthorityBusinessID': '11/00102/MIXED', 'BusinessName': 'Longhouse', 'BusinessType': 'Restaurant/Cafe/Canteen', 'BusinessTypeID': 1, 'AddressLine1': '17 London Road', 'AddressLine2': 'Riverhead', 'AddressLine3': 'KENT', 'AddressLine4': '', 'PostCode': 'TN13 2BU', 'Phone': '', 'RatingValue': '0', 'RatingKey': 'fhrs_0_en-gb', 'RatingDate': '2022-07-27T00:00:00', 'LocalAuthorityCode': '187', 'LocalAuthorityName': 'Sevenoaks', 'LocalAuthorityWebSite': 'http://www.sevenoaks.gov.uk/', 'LocalAuthorityEmailAddress': 'environmental.health@sevenoaks.gov.uk', 'scores': {'Hygiene': 20, 'Structural': 25, 'ConfidenceInManagement': 30}, 'SchemeType': 'FHRS', 'geocode': {'longitude': Decimal128('0.169685'), 'latitude': Decimal128('51.284795')}, 'RightToReply': '', 'Distance': 4636.703065274148, 'NewRatingPending': False, 'meta': {'dataSource': None, 'extractDate': '0001-01-01T00:00:00', 'itemCount': 0, 'returncode': None, 'totalCount': 0, 'totalPages': 0, 'pageSize': 0, 'pageNumber': 0}, 'links': [{'rel': 'self', 'href': 'http://api.ratings.food.gov.uk/establishments/267034'}]}, {'_id': ObjectId('65d78130e7b0e49418b43882'), 'FHRSID': 972876, 'ChangesByServerID': 0, 'LocalAuthorityBusinessID': '17/00059/FOOD/S', 'BusinessName': 'Westview Playgroup Based At Downsview Comm Primary', 'BusinessType': 'Other catering premises', 'BusinessTypeID': 7841, 'AddressLine1': 'Downsview Community Primary School', 'AddressLine2': 'Beech Avenue', 'AddressLine3': 'Swanley', 'AddressLine4': 'KENT', 'PostCode': 'BR8 8AU', 'Phone': '', 'RatingValue': '1', 'RatingKey': 'fhrs_1_en-gb', 'RatingDate': '2022-03-16T00:00:00', 'LocalAuthorityCode': '187', 'LocalAuthorityName': 'Sevenoaks', 'LocalAuthorityWebSite': 'http://www.sevenoaks.gov.uk/', 'LocalAuthorityEmailAddress': 'environmental.health@sevenoaks.gov.uk', 'scores': {'Hygiene': 20, 'Structural': 20, 'ConfidenceInManagement': 5}, 'SchemeType': 'FHRS', 'geocode': {'longitude': Decimal128('0.1864034'), 'latitude': Decimal128('51.3954686')}, 'RightToReply': '', 'Distance': 4640.152449114619, 'NewRatingPending': False, 'meta': {'dataSource': None, 'extractDate': '0001-01-01T00:00:00', 'itemCount': 0, 'returncode': None, 'totalCount': 0, 'totalPages': 0, 'pageSize': 0, 'pageNumber': 0}, 'links': [{'rel': 'self', 'href': 'http://api.ratings.food.gov.uk/establishments/972876'}]}, {'_id': ObjectId('65d78130e7b0e49418b44150'), 'FHRSID': 1417416, 'ChangesByServerID': 0, 'LocalAuthorityBusinessID': '21/00350/CP', 'BusinessName': 'Whatever The Weather Coffee', 'BusinessType': 'Mobile caterer', 'BusinessTypeID': 7846, 'AddressLine1': 'EMR Erith', 'AddressLine2': 'Manor Road', 'AddressLine3': 'Erith', 'AddressLine4': 'Kent', 'PostCode': 'DA8 2AD', 'Phone': '', 'RatingValue': '0', 'RatingKey': 'fhrs_0_en-gb', 'RatingDate': '2022-02-17T00:00:00', 'LocalAuthorityCode': '503', 'LocalAuthorityName': 'Bexley', 'LocalAuthorityWebSite': 'http://www.bexley.gov.uk', 'LocalAuthorityEmailAddress': 'food.safety@bexley.gov.uk', 'scores': {'Hygiene': 20, 'Structural': 15, 'ConfidenceInManagement': 20}, 'SchemeType': 'FHRS', 'geocode': {'longitude': Decimal128('0.19265740017645'), 'latitude': Decimal128('51.4774259502039')}, 'RightToReply': '', 'Distance': 4642.935252133844, 'NewRatingPending': False, 'meta': {'dataSource': None, 'extractDate': '0001-01-01T00:00:00', 'itemCount': 0, 'returncode': None, 'totalCount': 0, 'totalPages': 0, 'pageSize': 0, 'pageNumber': 0}, 'links': [{'rel': 'self', 'href': 'http://api.ratings.food.gov.uk/establishments/1417416'}]}, {'_id': ObjectId('65d78130e7b0e49418b4475e'), 'FHRSID': 1384371, 'ChangesByServerID': 0, 'LocalAuthorityBusinessID': '21/00062/MIXED', 'BusinessName': 'Kings Restaurant (Oriental)', 'BusinessType': 'Takeaway/sandwich shop', 'BusinessTypeID': 7844, 'AddressLine1': '43 Kings Road', 'AddressLine2': 'Brentwood', 'AddressLine3': 'Essex', 'AddressLine4': '', 'PostCode': 'CM14 4DJ', 'Phone': '', 'RatingValue': '0', 'RatingKey': 'fhrs_0_en-gb', 'RatingDate': '2022-07-05T00:00:00', 'LocalAuthorityCode': '111', 'LocalAuthorityName': 'Brentwood', 'LocalAuthorityWebSite': 'http://www.brentwood.gov.uk/', 'LocalAuthorityEmailAddress': 'envhealth@brentwood.gov.uk', 'scores': {'Hygiene': 20, 'Structural': 25, 'ConfidenceInManagement': 20}, 'SchemeType': 'FHRS', 'geocode': {'longitude': Decimal128('0.2983'), 'latitude': Decimal128('51.618135')}, 'RightToReply': '', 'Distance': 4644.277277495872, 'NewRatingPending': False, 'meta': {'dataSource': None, 'extractDate': '0001-01-01T00:00:00', 'itemCount': 0, 'returncode': None, 'totalCount': 0, 'totalPages': 0, 'pageSize': 0, 'pageNumber': 0}, 'links': [{'rel': 'self', 'href': 'http://api.ratings.food.gov.uk/establishments/1384371'}]}, {'_id': ObjectId('65d78130e7b0e49418b44aba'), 'FHRSID': 907216, 'ChangesByServerID': 0, 'LocalAuthorityBusinessID': '132648', 'BusinessName': 'Xich Lo', 'BusinessType': 'Restaurant/Cafe/Canteen', 'BusinessTypeID': 1, 'AddressLine1': '24 Station Lane', 'AddressLine2': 'Hornchurch', 'AddressLine3': '', 'AddressLine4': '', 'PostCode': 'RM12 6NJ', 'Phone': '', 'RatingValue': '1', 'RatingKey': 'fhrs_1_en-gb', 'RatingDate': '2022-07-15T00:00:00', 'LocalAuthorityCode': '516', 'LocalAuthorityName': 'Havering', 'LocalAuthorityWebSite': 'http://www.havering.gov.uk', 'LocalAuthorityEmailAddress': 'environmental.health@havering.gov.uk', 'scores': {'Hygiene': 20, 'Structural': 5, 'ConfidenceInManagement': 10}, 'SchemeType': 'FHRS', 'geocode': {'longitude': Decimal128('0.220507'), 'latitude': Decimal128('51.561287')}, 'RightToReply': '', 'Distance': 4645.006441020867, 'NewRatingPending': False, 'meta': {'dataSource': None, 'extractDate': '0001-01-01T00:00:00', 'itemCount': 0, 'returncode': None, 'totalCount': 0, 'totalPages': 0, 'pageSize': 0, 'pageNumber': 0}, 'links': [{'rel': 'self', 'href': 'http://api.ratings.food.gov.uk/establishments/907216'}]}, {'_id': ObjectId('65d78131e7b0e49418b4502b'), 'FHRSID': 710382, 'ChangesByServerID': 0, 'LocalAuthorityBusinessID': 'PI/000194267', 'BusinessName': 'Asian Supermarket Ltd: T/A Best Food Wine Ltd', 'BusinessType': 'Retailers - other', 'BusinessTypeID': 4613, 'AddressLine1': '2 - 6 Basildon Road', 'AddressLine2': '', 'AddressLine3': 'Abbey Wood', 'AddressLine4': 'Greenwich', 'PostCode': '', 'Phone': '', 'RatingValue': '0', 'RatingKey': 'fhrs_0_en-gb', 'RatingDate': '2022-04-22T00:00:00', 'LocalAuthorityCode': '511', 'LocalAuthorityName': 'Greenwich', 'LocalAuthorityWebSite': 'http://www.royalgreenwich.gov.uk', 'LocalAuthorityEmailAddress': 'health@royalgreenwich.gov.uk', 'scores': {'Hygiene': 20, 'Structural': 20, 'ConfidenceInManagement': 20}, 'SchemeType': 'FHRS', 'geocode': {'longitude': Decimal128('0.1070469'), 'latitude': Decimal128('51.4848146')}, 'RightToReply': '', 'Distance': 4646.327124710291, 'NewRatingPending': False, 'meta': {'dataSource': None, 'extractDate': '0001-01-01T00:00:00', 'itemCount': 0, 'returncode': None, 'totalCount': 0, 'totalPages': 0, 'pageSize': 0, 'pageNumber': 0}, 'links': [{'rel': 'self', 'href': 'http://api.ratings.food.gov.uk/establishments/710382'}]}, {'_id': ObjectId('65d78131e7b0e49418b45099'), 'FHRSID': 1411729, 'ChangesByServerID': 0, 'LocalAuthorityBusinessID': '21/00562/MIXED', 'BusinessName': 'Londis', 'BusinessType': 'Retailers - other', 'BusinessTypeID': 4613, 'AddressLine1': '5 - 7 Cranley Parade', 'AddressLine2': 'Beaconsfield Road', 'AddressLine3': 'Mottingham', 'AddressLine4': 'London', 'PostCode': 'SE9 4DZ', 'Phone': '', 'RatingValue': '0', 'RatingKey': 'fhrs_0_en-gb', 'RatingDate': '2021-11-12T00:00:00', 'LocalAuthorityCode': '505', 'LocalAuthorityName': 'Bromley', 'LocalAuthorityWebSite': 'http://www.bromley.gov.uk', 'LocalAuthorityEmailAddress': 'food@bromley.gov.uk', 'scores': {'Hygiene': 20, 'Structural': 10, 'ConfidenceInManagement': 30}, 'SchemeType': 'FHRS', 'geocode': {'longitude': Decimal128('0.0460971'), 'latitude': Decimal128('51.4273993')}, 'RightToReply': '', 'Distance': 4646.4482563738065, 'NewRatingPending': True, 'meta': {'dataSource': None, 'extractDate': '0001-01-01T00:00:00', 'itemCount': 0, 'returncode': None, 'totalCount': 0, 'totalPages': 0, 'pageSize': 0, 'pageNumber': 0}, 'links': [{'rel': 'self', 'href': 'http://api.ratings.food.gov.uk/establishments/1411729'}]}, {'_id': ObjectId('65d78131e7b0e49418b452f6'), 'FHRSID': 1060293, 'ChangesByServerID': 0, 'LocalAuthorityBusinessID': 'PI/000206588', 'BusinessName': 'Costcutter', 'BusinessType': 'Retailers - other', 'BusinessTypeID': 4613, 'AddressLine1': '2 The Slade', 'AddressLine2': '', 'AddressLine3': 'Plumstead', 'AddressLine4': 'Greenwich', 'PostCode': 'SE18 2NB', 'Phone': '', 'RatingValue': '0', 'RatingKey': 'fhrs_0_en-gb', 'RatingDate': '2022-03-14T00:00:00', 'LocalAuthorityCode': '511', 'LocalAuthorityName': 'Greenwich', 'LocalAuthorityWebSite': 'http://www.royalgreenwich.gov.uk', 'LocalAuthorityEmailAddress': 'health@royalgreenwich.gov.uk', 'scores': {'Hygiene': 20, 'Structural': 15, 'ConfidenceInManagement': 20}, 'SchemeType': 'FHRS', 'geocode': {'longitude': Decimal128('0.0888789'), 'latitude': Decimal128('51.4800266')}, 'RightToReply': '', 'Distance': 4646.814121604596, 'NewRatingPending': False, 'meta': {'dataSource': None, 'extractDate': '0001-01-01T00:00:00', 'itemCount': 0, 'returncode': None, 'totalCount': 0, 'totalPages': 0, 'pageSize': 0, 'pageNumber': 0}, 'links': [{'rel': 'self', 'href': 'http://api.ratings.food.gov.uk/establishments/1060293'}]}, {'_id': ObjectId('65d78131e7b0e49418b458d7'), 'FHRSID': 1243155, 'ChangesByServerID': 0, 'LocalAuthorityBusinessID': '75460', 'BusinessName': 'La Simon Ltd', 'BusinessType': 'Retailers - other', 'BusinessTypeID': 4613, 'AddressLine1': '', 'AddressLine2': '8 Porters Avenue', 'AddressLine3': '', 'AddressLine4': 'Dagenham', 'PostCode': 'RM8 2AQ', 'Phone': '', 'RatingValue': '1', 'RatingKey': 'fhrs_1_en-gb', 'RatingDate': '2022-03-30T00:00:00', 'LocalAuthorityCode': '501', 'LocalAuthorityName': 'Barking and Dagenham', 'LocalAuthorityWebSite': 'http://www.lbbd.gov.uk/Pages/Home.aspx', 'LocalAuthorityEmailAddress': 'foodsafety@lbbd.gov.uk', 'scores': {'Hygiene': 20, 'Structural': 15, 'ConfidenceInManagement': 5}, 'SchemeType': 'FHRS', 'geocode': {'longitude': Decimal128('0.1300921'), 'latitude': Decimal128('51.5515791')}, 'RightToReply': '', 'Distance': 4647.937954737693, 'NewRatingPending': False, 'meta': {'dataSource': None, 'extractDate': '0001-01-01T00:00:00', 'itemCount': 0, 'returncode': None, 'totalCount': 0, 'totalPages': 0, 'pageSize': 0, 'pageNumber': 0}, 'links': [{'rel': 'self', 'href': 'http://api.ratings.food.gov.uk/establishments/1243155'}]}, {'_id': ObjectId('65d78131e7b0e49418b45e86'), 'FHRSID': 1210197, 'ChangesByServerID': 0, 'LocalAuthorityBusinessID': '75196', 'BusinessName': 'Caribiscus Ltd', 'BusinessType': 'Restaurant/Cafe/Canteen', 'BusinessTypeID': 1, 'AddressLine1': '', 'AddressLine2': '87 Longbridge Road', 'AddressLine3': '', 'AddressLine4': 'Barking', 'PostCode': 'IG11 8TB', 'Phone': '', 'RatingValue': '0', 'RatingKey': 'fhrs_0_en-gb', 'RatingDate': '2022-06-20T00:00:00', 'LocalAuthorityCode': '501', 'LocalAuthorityName': 'Barking and Dagenham', 'LocalAuthorityWebSite': 'http://www.lbbd.gov.uk/Pages/Home.aspx', 'LocalAuthorityEmailAddress': 'foodsafety@lbbd.gov.uk', 'scores': {'Hygiene': 20, 'Structural': 20, 'ConfidenceInManagement': 30}, 'SchemeType': 'FHRS', 'geocode': {'longitude': Decimal128('0.084452'), 'latitude': Decimal128('51.541715')}, 'RightToReply': '', 'Distance': 4649.2374619583225, 'NewRatingPending': False, 'meta': {'dataSource': None, 'extractDate': '0001-01-01T00:00:00', 'itemCount': 0, 'returncode': None, 'totalCount': 0, 'totalPages': 0, 'pageSize': 0, 'pageNumber': 0}, 'links': [{'rel': 'self', 'href': 'http://api.ratings.food.gov.uk/establishments/1210197'}]}, {'_id': ObjectId('65d78131e7b0e49418b45ea9'), 'FHRSID': 108663, 'ChangesByServerID': 0, 'LocalAuthorityBusinessID': '38915', 'BusinessName': 'Kennedy Fried Chicken', 'BusinessType': 'Takeaway/sandwich shop', 'BusinessTypeID': 7844, 'AddressLine1': '', 'AddressLine2': '66 Station Parade', 'AddressLine3': '', 'AddressLine4': 'Barking', 'PostCode': 'IG11 8EA', 'Phone': '', 'RatingValue': '0', 'RatingKey': 'fhrs_0_en-gb', 'RatingDate': '2022-06-11T00:00:00', 'LocalAuthorityCode': '501', 'LocalAuthorityName': 'Barking and Dagenham', 'LocalAuthorityWebSite': 'http://www.lbbd.gov.uk/Pages/Home.aspx', 'LocalAuthorityEmailAddress': 'foodsafety@lbbd.gov.uk', 'scores': {'Hygiene': 20, 'Structural': 20, 'ConfidenceInManagement': 30}, 'SchemeType': 'FHRS', 'geocode': {'longitude': Decimal128('0.081616'), 'latitude': Decimal128('51.539293')}, 'RightToReply': '', 'Distance': 4649.2519200445495, 'NewRatingPending': False, 'meta': {'dataSource': None, 'extractDate': '0001-01-01T00:00:00', 'itemCount': 0, 'returncode': None, 'totalCount': 0, 'totalPages': 0, 'pageSize': 0, 'pageNumber': 0}, 'links': [{'rel': 'self', 'href': 'http://api.ratings.food.gov.uk/establishments/108663'}]}, {'_id': ObjectId('65d78131e7b0e49418b4617d'), 'FHRSID': 1107748, 'ChangesByServerID': 0, 'LocalAuthorityBusinessID': '19/00222/FOOD', 'BusinessName': 'Gah Shing', 'BusinessType': 'Takeaway/sandwich shop', 'BusinessTypeID': 7844, 'AddressLine1': '5 High Street South', 'AddressLine2': 'East Ham', 'AddressLine3': 'London', 'AddressLine4': '', 'PostCode': 'E6 6EN', 'Phone': '', 'RatingValue': '1', 'RatingKey': 'fhrs_1_en-gb', 'RatingDate': '2022-05-11T00:00:00', 'LocalAuthorityCode': '525', 'LocalAuthorityName': 'Newham', 'LocalAuthorityWebSite': 'https://www.newham.gov.uk', 'LocalAuthorityEmailAddress': 'food@newham.gov.uk', 'scores': {'Hygiene': 20, 'Structural': 15, 'ConfidenceInManagement': 10}, 'SchemeType': 'FHRS', 'geocode': {'longitude': Decimal128('0.055764'), 'latitude': Decimal128('51.531385')}, 'RightToReply': '', 'Distance': 4649.903793551815, 'NewRatingPending': False, 'meta': {'dataSource': None, 'extractDate': '0001-01-01T00:00:00', 'itemCount': 0, 'returncode': None, 'totalCount': 0, 'totalPages': 0, 'pageSize': 0, 'pageNumber': 0}, 'links': [{'rel': 'self', 'href': 'http://api.ratings.food.gov.uk/establishments/1107748'}]}, {'_id': ObjectId('65d78131e7b0e49418b461bc'), 'FHRSID': 570096, 'ChangesByServerID': 0, 'LocalAuthorityBusinessID': '178447', 'BusinessName': 'A1 News & Wine', 'BusinessType': 'Retailers - other', 'BusinessTypeID': 4613, 'AddressLine1': '', 'AddressLine2': '221 Ilford Lane', 'AddressLine3': '', 'AddressLine4': 'Ilford', 'PostCode': 'IG1 2RZ', 'Phone': '', 'RatingValue': '1', 'RatingKey': 'fhrs_1_en-gb', 'RatingDate': '2021-06-02T00:00:00', 'LocalAuthorityCode': '526', 'LocalAuthorityName': 'Redbridge', 'LocalAuthorityWebSite': 'http://www.redbridge.gov.uk/', 'LocalAuthorityEmailAddress': 'themis.skouros@redbridge.gov.uk', 'scores': {'Hygiene': 20, 'Structural': 10, 'ConfidenceInManagement': 20}, 'SchemeType': 'FHRS', 'geocode': {'longitude': Decimal128('0.074347'), 'latitude': Decimal128('51.551624')}, 'RightToReply': '', 'Distance': 4649.968842000992, 'NewRatingPending': False, 'meta': {'dataSource': None, 'extractDate': '0001-01-01T00:00:00', 'itemCount': 0, 'returncode': None, 'totalCount': 0, 'totalPages': 0, 'pageSize': 0, 'pageNumber': 0}, 'links': [{'rel': 'self', 'href': 'http://api.ratings.food.gov.uk/establishments/570096'}]}, {'_id': ObjectId('65d78131e7b0e49418b462c8'), 'FHRSID': 1500698, 'ChangesByServerID': 0, 'LocalAuthorityBusinessID': '201759', 'BusinessName': 'Cakes & Bakes', 'BusinessType': 'Takeaway/sandwich shop', 'BusinessTypeID': 7844, 'AddressLine1': '', 'AddressLine2': '108 Ilford Lane', 'AddressLine3': '', 'AddressLine4': 'Ilford', 'PostCode': 'IG1 2LD', 'Phone': '', 'RatingValue': '0', 'RatingKey': 'fhrs_0_en-gb', 'RatingDate': '2022-05-19T00:00:00', 'LocalAuthorityCode': '526', 'LocalAuthorityName': 'Redbridge', 'LocalAuthorityWebSite': 'http://www.redbridge.gov.uk/', 'LocalAuthorityEmailAddress': 'themis.skouros@redbridge.gov.uk', 'scores': {'Hygiene': 20, 'Structural': 15, 'ConfidenceInManagement': 20}, 'SchemeType': 'FHRS', 'geocode': {'longitude': Decimal128('0.0725645'), 'latitude': Decimal128('51.5540755')}, 'RightToReply': '', 'Distance': 4650.123644180097, 'NewRatingPending': False, 'meta': {'dataSource': None, 'extractDate': '0001-01-01T00:00:00', 'itemCount': 0, 'returncode': None, 'totalCount': 0, 'totalPages': 0, 'pageSize': 0, 'pageNumber': 0}, 'links': [{'rel': 'self', 'href': 'http://api.ratings.food.gov.uk/establishments/1500698'}]}, {'_id': ObjectId('65d78131e7b0e49418b46387'), 'FHRSID': 1318114, 'ChangesByServerID': 0, 'LocalAuthorityBusinessID': '200845', 'BusinessName': 'Sahajanand Catering Limited', 'BusinessType': 'Restaurant/Cafe/Canteen', 'BusinessTypeID': 1, 'AddressLine1': '', 'AddressLine2': '149 Ley Street', 'AddressLine3': '', 'AddressLine4': 'Ilford', 'PostCode': 'IG1 4BL', 'Phone': '', 'RatingValue': '1', 'RatingKey': 'fhrs_1_en-gb', 'RatingDate': '2022-07-04T00:00:00', 'LocalAuthorityCode': '526', 'LocalAuthorityName': 'Redbridge', 'LocalAuthorityWebSite': 'http://www.redbridge.gov.uk/', 'LocalAuthorityEmailAddress': 'themis.skouros@redbridge.gov.uk', 'scores': {'Hygiene': 20, 'Structural': 20, 'ConfidenceInManagement': 5}, 'SchemeType': 'FHRS', 'geocode': {'longitude': Decimal128('0.077645'), 'latitude': Decimal128('51.562276')}, 'RightToReply': '', 'Distance': 4650.2394323606195, 'NewRatingPending': False, 'meta': {'dataSource': None, 'extractDate': '0001-01-01T00:00:00', 'itemCount': 0, 'returncode': None, 'totalCount': 0, 'totalPages': 0, 'pageSize': 0, 'pageNumber': 0}, 'links': [{'rel': 'self', 'href': 'http://api.ratings.food.gov.uk/establishments/1318114'}]}, {'_id': ObjectId('65d78131e7b0e49418b46396'), 'FHRSID': 1498084, 'ChangesByServerID': 0, 'LocalAuthorityBusinessID': '22/00797/FOOD', 'BusinessName': 'Sisko Cafe', 'BusinessType': 'Restaurant/Cafe/Canteen', 'BusinessTypeID': 1, 'AddressLine1': '151 - 153 Barking Road', 'AddressLine2': 'East Ham', 'AddressLine3': 'London', 'AddressLine4': '', 'PostCode': 'E6 1LD', 'Phone': '', 'RatingValue': '0', 'RatingKey': 'fhrs_0_en-gb', 'RatingDate': '2022-04-22T00:00:00', 'LocalAuthorityCode': '525', 'LocalAuthorityName': 'Newham', 'LocalAuthorityWebSite': 'https://www.newham.gov.uk', 'LocalAuthorityEmailAddress': 'food@newham.gov.uk', 'scores': {'Hygiene': 20, 'Structural': 20, 'ConfidenceInManagement': 20}, 'SchemeType': 'FHRS', 'geocode': {'longitude': Decimal128('0.046878'), 'latitude': Decimal128('51.531936')}, 'RightToReply': '', 'Distance': 4650.247785381525, 'NewRatingPending': False, 'meta': {'dataSource': None, 'extractDate': '0001-01-01T00:00:00', 'itemCount': 0, 'returncode': None, 'totalCount': 0, 'totalPages': 0, 'pageSize': 0, 'pageNumber': 0}, 'links': [{'rel': 'self', 'href': 'http://api.ratings.food.gov.uk/establishments/1498084'}]}, {'_id': ObjectId('65d78131e7b0e49418b46483'), 'FHRSID': 1063454, 'ChangesByServerID': 0, 'LocalAuthorityBusinessID': '18/00285/FOOD', 'BusinessName': 'Magazin Romanesc Diana', 'BusinessType': 'Retailers - other', 'BusinessTypeID': 4613, 'AddressLine1': '221 High Street North', 'AddressLine2': 'East Ham', 'AddressLine3': 'London', 'AddressLine4': '', 'PostCode': 'E6 1JG', 'Phone': '', 'RatingValue': '1', 'RatingKey': 'fhrs_1_en-gb', 'RatingDate': '2022-07-25T00:00:00', 'LocalAuthorityCode': '525', 'LocalAuthorityName': 'Newham', 'LocalAuthorityWebSite': 'https://www.newham.gov.uk', 'LocalAuthorityEmailAddress': 'food@newham.gov.uk', 'scores': {'Hygiene': 20, 'Structural': 10, 'ConfidenceInManagement': 20}, 'SchemeType': 'FHRS', 'geocode': {'longitude': Decimal128('0.050713'), 'latitude': Decimal128('51.53963')}, 'RightToReply': '', 'Distance': 4650.389970646722, 'NewRatingPending': False, 'meta': {'dataSource': None, 'extractDate': '0001-01-01T00:00:00', 'itemCount': 0, 'returncode': None, 'totalCount': 0, 'totalPages': 0, 'pageSize': 0, 'pageNumber': 0}, 'links': [{'rel': 'self', 'href': 'http://api.ratings.food.gov.uk/establishments/1063454'}]}, {'_id': ObjectId('65d78131e7b0e49418b464fb'), 'FHRSID': 1130121, 'ChangesByServerID': 0, 'LocalAuthorityBusinessID': '19/00249/FOOD', 'BusinessName': 'Bali Maamalas', 'BusinessType': 'Restaurant/Cafe/Canteen', 'BusinessTypeID': 1, 'AddressLine1': '241B High Street North', 'AddressLine2': 'Manor Park', 'AddressLine3': 'London', 'AddressLine4': '', 'PostCode': 'E12 6SJ', 'Phone': '', 'RatingValue': '1', 'RatingKey': 'fhrs_1_en-gb', 'RatingDate': '2022-05-11T00:00:00', 'LocalAuthorityCode': '525', 'LocalAuthorityName': 'Newham', 'LocalAuthorityWebSite': 'https://www.newham.gov.uk', 'LocalAuthorityEmailAddress': 'food@newham.gov.uk', 'scores': {'Hygiene': 20, 'Structural': 10, 'ConfidenceInManagement': 20}, 'SchemeType': 'FHRS', 'geocode': {'longitude': Decimal128('0.050334'), 'latitude': Decimal128('51.541156')}, 'RightToReply': '', 'Distance': 4650.459698178172, 'NewRatingPending': False, 'meta': {'dataSource': None, 'extractDate': '0001-01-01T00:00:00', 'itemCount': 0, 'returncode': None, 'totalCount': 0, 'totalPages': 0, 'pageSize': 0, 'pageNumber': 0}, 'links': [{'rel': 'self', 'href': 'http://api.ratings.food.gov.uk/establishments/1130121'}]}, {'_id': ObjectId('65d78131e7b0e49418b46744'), 'FHRSID': 640363, 'ChangesByServerID': 0, 'LocalAuthorityBusinessID': '10/00269/FOOD', 'BusinessName': 'Angels Bakery', 'BusinessType': 'Other catering premises', 'BusinessTypeID': 7841, 'AddressLine1': '333 Barking Road', 'AddressLine2': 'Plaistow', 'AddressLine3': 'London', 'AddressLine4': '', 'PostCode': 'E13 8EE', 'Phone': '', 'RatingValue': '0', 'RatingKey': 'fhrs_0_en-gb', 'RatingDate': '2022-07-20T00:00:00', 'LocalAuthorityCode': '525', 'LocalAuthorityName': 'Newham', 'LocalAuthorityWebSite': 'https://www.newham.gov.uk', 'LocalAuthorityEmailAddress': 'food@newham.gov.uk', 'scores': {'Hygiene': 20, 'Structural': 20, 'ConfidenceInManagement': 20}, 'SchemeType': 'FHRS', 'geocode': {'longitude': Decimal128('0.021028'), 'latitude': Decimal128('51.52189')}, 'RightToReply': '', 'Distance': 4650.822100156243, 'NewRatingPending': False, 'meta': {'dataSource': None, 'extractDate': '0001-01-01T00:00:00', 'itemCount': 0, 'returncode': None, 'totalCount': 0, 'totalPages': 0, 'pageSize': 0, 'pageNumber': 0}, 'links': [{'rel': 'self', 'href': 'http://api.ratings.food.gov.uk/establishments/640363'}]}, {'_id': ObjectId('65d78131e7b0e49418b4678f'), 'FHRSID': 640816, 'ChangesByServerID': 0, 'LocalAuthorityBusinessID': '61130/0282/0/000', 'BusinessName': 'Nikkis Place Restaurant', 'BusinessType': 'Restaurant/Cafe/Canteen', 'BusinessTypeID': 1, 'AddressLine1': '282 Barking Road', 'AddressLine2': 'Plaistow', 'AddressLine3': 'London', 'AddressLine4': '', 'PostCode': 'E13 8HR', 'Phone': '', 'RatingValue': '0', 'RatingKey': 'fhrs_0_en-gb', 'RatingDate': '2022-06-30T00:00:00', 'LocalAuthorityCode': '525', 'LocalAuthorityName': 'Newham', 'LocalAuthorityWebSite': 'https://www.newham.gov.uk', 'LocalAuthorityEmailAddress': 'food@newham.gov.uk', 'scores': {'Hygiene': 20, 'Structural': 20, 'ConfidenceInManagement': 20}, 'SchemeType': 'FHRS', 'geocode': {'longitude': Decimal128('0.018342'), 'latitude': Decimal128('51.520147')}, 'RightToReply': '', 'Distance': 4650.85622582084, 'NewRatingPending': False, 'meta': {'dataSource': None, 'extractDate': '0001-01-01T00:00:00', 'itemCount': 0, 'returncode': None, 'totalCount': 0, 'totalPages': 0, 'pageSize': 0, 'pageNumber': 0}, 'links': [{'rel': 'self', 'href': 'http://api.ratings.food.gov.uk/establishments/640816'}]}, {'_id': ObjectId('65d78131e7b0e49418b467ff'), 'FHRSID': 1530599, 'ChangesByServerID': 0, 'LocalAuthorityBusinessID': '22/01037/FOOD', 'BusinessName': 'Chicago 30', 'BusinessType': 'Takeaway/sandwich shop', 'BusinessTypeID': 7844, 'AddressLine1': '369 Katherine Road', 'AddressLine2': 'Forest Gate', 'AddressLine3': 'London', 'AddressLine4': '', 'PostCode': 'E7 8LT', 'Phone': '', 'RatingValue': '0', 'RatingKey': 'fhrs_0_en-gb', 'RatingDate': '2022-07-05T00:00:00', 'LocalAuthorityCode': '525', 'LocalAuthorityName': 'Newham', 'LocalAuthorityWebSite': 'https://www.newham.gov.uk', 'LocalAuthorityEmailAddress': 'food@newham.gov.uk', 'scores': {'Hygiene': 20, 'Structural': 15, 'ConfidenceInManagement': 30}, 'SchemeType': 'FHRS', 'geocode': {'longitude': Decimal128('0.037523'), 'latitude': Decimal128('51.541658')}, 'RightToReply': '', 'Distance': 4650.9448351911105, 'NewRatingPending': False, 'meta': {'dataSource': None, 'extractDate': '0001-01-01T00:00:00', 'itemCount': 0, 'returncode': None, 'totalCount': 0, 'totalPages': 0, 'pageSize': 0, 'pageNumber': 0}, 'links': [{'rel': 'self', 'href': 'http://api.ratings.food.gov.uk/establishments/1530599'}]}, {'_id': ObjectId('65d78131e7b0e49418b4690e'), 'FHRSID': 668674, 'ChangesByServerID': 0, 'LocalAuthorityBusinessID': '14/00082/COM', 'BusinessName': 'Samui Thai Restaurant', 'BusinessType': 'Restaurant/Cafe/Canteen', 'BusinessTypeID': 1, 'AddressLine1': 'The Kinema', 'AddressLine2': 'Chelmsford Road', 'AddressLine3': 'Dunmow', 'AddressLine4': '', 'PostCode': 'CM6 1HB', 'Phone': '', 'RatingValue': '0', 'RatingKey': 'fhrs_0_en-gb', 'RatingDate': '2022-03-24T00:00:00', 'LocalAuthorityCode': '122', 'LocalAuthorityName': 'Uttlesford', 'LocalAuthorityWebSite': 'http://www.uttlesford.gov.uk', 'LocalAuthorityEmailAddress': 'environmentalhealth@uttlesford.gov.uk', 'scores': {'Hygiene': 20, 'Structural': 20, 'ConfidenceInManagement': 30}, 'SchemeType': 'FHRS', 'geocode': {'longitude': Decimal128('0.3659018'), 'latitude': Decimal128('51.8686712')}, 'RightToReply': '', 'Distance': 4651.0999945416315, 'NewRatingPending': False, 'meta': {'dataSource': None, 'extractDate': '0001-01-01T00:00:00', 'itemCount': 0, 'returncode': None, 'totalCount': 0, 'totalPages': 0, 'pageSize': 0, 'pageNumber': 0}, 'links': [{'rel': 'self', 'href': 'http://api.ratings.food.gov.uk/establishments/668674'}]}, {'_id': ObjectId('65d78131e7b0e49418b469f9'), 'FHRSID': 1286585, 'ChangesByServerID': 0, 'LocalAuthorityBusinessID': '20/00532/FOOD', 'BusinessName': 'Pakhtoonkhwa Restaurant', 'BusinessType': 'Restaurant/Cafe/Canteen', 'BusinessTypeID': 1, 'AddressLine1': '76 Green Street', 'AddressLine2': 'Forest Gate', 'AddressLine3': 'London', 'AddressLine4': '', 'PostCode': 'E7 8JG', 'Phone': '', 'RatingValue': '0', 'RatingKey': 'fhrs_0_en-gb', 'RatingDate': '2022-06-14T00:00:00', 'LocalAuthorityCode': '525', 'LocalAuthorityName': 'Newham', 'LocalAuthorityWebSite': 'https://www.newham.gov.uk', 'LocalAuthorityEmailAddress': 'food@newham.gov.uk', 'scores': {'Hygiene': 20, 'Structural': 20, 'ConfidenceInManagement': 20}, 'SchemeType': 'FHRS', 'geocode': {'longitude': Decimal128('0.031959'), 'latitude': Decimal128('51.543994')}, 'RightToReply': '', 'Distance': 4651.2331297369665, 'NewRatingPending': False, 'meta': {'dataSource': None, 'extractDate': '0001-01-01T00:00:00', 'itemCount': 0, 'returncode': None, 'totalCount': 0, 'totalPages': 0, 'pageSize': 0, 'pageNumber': 0}, 'links': [{'rel': 'self', 'href': 'http://api.ratings.food.gov.uk/establishments/1286585'}]}, {'_id': ObjectId('65d78131e7b0e49418b46aab'), 'FHRSID': 971735, 'ChangesByServerID': 0, 'LocalAuthorityBusinessID': '17/00076/COM', 'BusinessName': 'New Happy Garden', 'BusinessType': 'Takeaway/sandwich shop', 'BusinessTypeID': 7844, 'AddressLine1': '23 Stortford Road', 'AddressLine2': 'Dunmow', 'AddressLine3': '', 'AddressLine4': '', 'PostCode': 'CM6 1DA', 'Phone': '', 'RatingValue': '0', 'RatingKey': 'fhrs_0_en-gb', 'RatingDate': '2022-03-28T00:00:00', 'LocalAuthorityCode': '122', 'LocalAuthorityName': 'Uttlesford', 'LocalAuthorityWebSite': 'http://www.uttlesford.gov.uk', 'LocalAuthorityEmailAddress': 'environmentalhealth@uttlesford.gov.uk', 'scores': {'Hygiene': 20, 'Structural': 20, 'ConfidenceInManagement': 20}, 'SchemeType': 'FHRS', 'geocode': {'longitude': Decimal128('0.360846'), 'latitude': Decimal128('51.873055')}, 'RightToReply': '', 'Distance': 4651.44448783849, 'NewRatingPending': False, 'meta': {'dataSource': None, 'extractDate': '0001-01-01T00:00:00', 'itemCount': 0, 'returncode': None, 'totalCount': 0, 'totalPages': 0, 'pageSize': 0, 'pageNumber': 0}, 'links': [{'rel': 'self', 'href': 'http://api.ratings.food.gov.uk/establishments/971735'}]}, {'_id': ObjectId('65d78131e7b0e49418b46c52'), 'FHRSID': 1055935, 'ChangesByServerID': 0, 'LocalAuthorityBusinessID': '18/00198/FOOD', 'BusinessName': 'Mummy Yum', 'BusinessType': 'Takeaway/sandwich shop', 'BusinessTypeID': 7844, 'AddressLine1': '34 West Ham Lane', 'AddressLine2': 'Stratford', 'AddressLine3': 'London', 'AddressLine4': '', 'PostCode': 'E15 4SA', 'Phone': '', 'RatingValue': '0', 'RatingKey': 'fhrs_0_en-gb', 'RatingDate': '2022-07-12T00:00:00', 'LocalAuthorityCode': '525', 'LocalAuthorityName': 'Newham', 'LocalAuthorityWebSite': 'https://www.newham.gov.uk', 'LocalAuthorityEmailAddress': 'food@newham.gov.uk', 'scores': {'Hygiene': 20, 'Structural': 20, 'ConfidenceInManagement': 20}, 'SchemeType': 'FHRS', 'geocode': {'longitude': Decimal128('0.004389'), 'latitude': Decimal128('51.538857')}, 'RightToReply': '', 'Distance': 4652.049759667773, 'NewRatingPending': False, 'meta': {'dataSource': None, 'extractDate': '0001-01-01T00:00:00', 'itemCount': 0, 'returncode': None, 'totalCount': 0, 'totalPages': 0, 'pageSize': 0, 'pageNumber': 0}, 'links': [{'rel': 'self', 'href': 'http://api.ratings.food.gov.uk/establishments/1055935'}]}, {'_id': ObjectId('65d78131e7b0e49418b46ddd'), 'FHRSID': 1177878, 'ChangesByServerID': 0, 'LocalAuthorityBusinessID': '347294', 'BusinessName': 'Gospodina', 'BusinessType': 'Retailers - other', 'BusinessTypeID': 4613, 'AddressLine1': '', 'AddressLine2': '345 High Road Leytonstone', 'AddressLine3': '', 'AddressLine4': 'Leytonstone', 'PostCode': 'E11 4JT', 'Phone': '', 'RatingValue': '0', 'RatingKey': 'fhrs_0_en-gb', 'RatingDate': '2022-06-27T00:00:00', 'LocalAuthorityCode': '531', 'LocalAuthorityName': 'Waltham Forest', 'LocalAuthorityWebSite': 'http://www.walthamforest.gov.uk', 'LocalAuthorityEmailAddress': 'environmentalhealth@walthamforest.gov.uk', 'scores': {'Hygiene': 20, 'Structural': 20, 'ConfidenceInManagement': 30}, 'SchemeType': 'FHRS', 'geocode': {'longitude': Decimal128('0.005407'), 'latitude': Decimal128('51.555782')}, 'RightToReply': '', 'Distance': 4652.63219028813, 'NewRatingPending': False, 'meta': {'dataSource': None, 'extractDate': '0001-01-01T00:00:00', 'itemCount': 0, 'returncode': None, 'totalCount': 0, 'totalPages': 0, 'pageSize': 0, 'pageNumber': 0}, 'links': [{'rel': 'self', 'href': 'http://api.ratings.food.gov.uk/establishments/1177878'}]}, {'_id': ObjectId('65d78132e7b0e49418b46ecb'), 'FHRSID': 1296829, 'ChangesByServerID': 0, 'LocalAuthorityBusinessID': '347449', 'BusinessName': \"Leo's Bar & Grill\", 'BusinessType': 'Restaurant/Cafe/Canteen', 'BusinessTypeID': 1, 'AddressLine1': '', 'AddressLine2': '32 Church Lane', 'AddressLine3': '', 'AddressLine4': 'Leytonstone', 'PostCode': 'E11 1HG', 'Phone': '', 'RatingValue': '1', 'RatingKey': 'fhrs_1_en-gb', 'RatingDate': '2022-06-15T00:00:00', 'LocalAuthorityCode': '531', 'LocalAuthorityName': 'Waltham Forest', 'LocalAuthorityWebSite': 'http://www.walthamforest.gov.uk', 'LocalAuthorityEmailAddress': 'environmentalhealth@walthamforest.gov.uk', 'scores': {'Hygiene': 20, 'Structural': 5, 'ConfidenceInManagement': 20}, 'SchemeType': 'FHRS', 'geocode': {'longitude': Decimal128('0.009101'), 'latitude': Decimal128('51.568245')}, 'RightToReply': '', 'Distance': 4652.953922367066, 'NewRatingPending': True, 'meta': {'dataSource': None, 'extractDate': '0001-01-01T00:00:00', 'itemCount': 0, 'returncode': None, 'totalCount': 0, 'totalPages': 0, 'pageSize': 0, 'pageNumber': 0}, 'links': [{'rel': 'self', 'href': 'http://api.ratings.food.gov.uk/establishments/1296829'}]}, {'_id': ObjectId('65d78132e7b0e49418b4723f'), 'FHRSID': 514573, 'ChangesByServerID': 0, 'LocalAuthorityBusinessID': '44243', 'BusinessName': 'Royal Ribs', 'BusinessType': 'Takeaway/sandwich shop', 'BusinessTypeID': 7844, 'AddressLine1': '', 'AddressLine2': '14 Hatch Lane', 'AddressLine3': '', 'AddressLine4': 'Chingford', 'PostCode': 'E4 6LQ', 'Phone': '', 'RatingValue': '0', 'RatingKey': 'fhrs_0_en-gb', 'RatingDate': '2022-07-01T00:00:00', 'LocalAuthorityCode': '531', 'LocalAuthorityName': 'Waltham Forest', 'LocalAuthorityWebSite': 'http://www.walthamforest.gov.uk', 'LocalAuthorityEmailAddress': 'environmentalhealth@walthamforest.gov.uk', 'scores': {'Hygiene': 20, 'Structural': 15, 'ConfidenceInManagement': 30}, 'SchemeType': 'FHRS', 'geocode': {'longitude': Decimal128('0.006248'), 'latitude': Decimal128('51.61912')}, 'RightToReply': '', 'Distance': 4654.920995700347, 'NewRatingPending': False, 'meta': {'dataSource': None, 'extractDate': '0001-01-01T00:00:00', 'itemCount': 0, 'returncode': None, 'totalCount': 0, 'totalPages': 0, 'pageSize': 0, 'pageNumber': 0}, 'links': [{'rel': 'self', 'href': 'http://api.ratings.food.gov.uk/establishments/514573'}]}, {'_id': ObjectId('65d78132e7b0e49418b47438'), 'FHRSID': 124507, 'ChangesByServerID': 0, 'LocalAuthorityBusinessID': '53022999151', 'BusinessName': 'Great Hallingbury Manor Hotel', 'BusinessType': 'Restaurant/Cafe/Canteen', 'BusinessTypeID': 1, 'AddressLine1': 'Great Hallingbury Manor', 'AddressLine2': 'Tilekiln Green', 'AddressLine3': 'Great Hallingbury', 'AddressLine4': 'Bishops Stortford', 'PostCode': 'CM22 7TJ', 'Phone': '', 'RatingValue': '1', 'RatingKey': 'fhrs_1_en-gb', 'RatingDate': '2021-07-28T00:00:00', 'LocalAuthorityCode': '122', 'LocalAuthorityName': 'Uttlesford', 'LocalAuthorityWebSite': 'http://www.uttlesford.gov.uk', 'LocalAuthorityEmailAddress': 'environmentalhealth@uttlesford.gov.uk', 'scores': {'Hygiene': 20, 'Structural': 10, 'ConfidenceInManagement': 20}, 'SchemeType': 'FHRS', 'geocode': {'longitude': Decimal128('0.207771003246307'), 'latitude': Decimal128('51.8686828613281')}, 'RightToReply': '', 'Distance': 4656.798774391753, 'NewRatingPending': False, 'meta': {'dataSource': None, 'extractDate': '0001-01-01T00:00:00', 'itemCount': 0, 'returncode': None, 'totalCount': 0, 'totalPages': 0, 'pageSize': 0, 'pageNumber': 0}, 'links': [{'rel': 'self', 'href': 'http://api.ratings.food.gov.uk/establishments/124507'}]}, {'_id': ObjectId('65d78132e7b0e49418b47658'), 'FHRSID': 479001, 'ChangesByServerID': 0, 'LocalAuthorityBusinessID': '12/00162/COM', 'BusinessName': 'The Dog And Duck', 'BusinessType': 'Pub/bar/nightclub', 'BusinessTypeID': 7843, 'AddressLine1': '58 Lower Street', 'AddressLine2': 'Stansted', 'AddressLine3': 'Essex', 'AddressLine4': '', 'PostCode': 'CM24 8LR', 'Phone': '', 'RatingValue': '0', 'RatingKey': 'fhrs_0_en-gb', 'RatingDate': '2021-11-11T00:00:00', 'LocalAuthorityCode': '122', 'LocalAuthorityName': 'Uttlesford', 'LocalAuthorityWebSite': 'http://www.uttlesford.gov.uk', 'LocalAuthorityEmailAddress': 'environmentalhealth@uttlesford.gov.uk', 'scores': {'Hygiene': 20, 'Structural': 15, 'ConfidenceInManagement': 20}, 'SchemeType': 'FHRS', 'geocode': {'longitude': Decimal128('0.201087'), 'latitude': Decimal128('51.904039')}, 'RightToReply': '', 'Distance': 4658.344880326824, 'NewRatingPending': False, 'meta': {'dataSource': None, 'extractDate': '0001-01-01T00:00:00', 'itemCount': 0, 'returncode': None, 'totalCount': 0, 'totalPages': 0, 'pageSize': 0, 'pageNumber': 0}, 'links': [{'rel': 'self', 'href': 'http://api.ratings.food.gov.uk/establishments/479001'}]}, {'_id': ObjectId('65d78132e7b0e49418b47846'), 'FHRSID': 107710, 'ChangesByServerID': 0, 'LocalAuthorityBusinessID': '38127001007', 'BusinessName': 'Oriental Cottage', 'BusinessType': 'Takeaway/sandwich shop', 'BusinessTypeID': 7844, 'AddressLine1': '1 Mercers Row', 'AddressLine2': 'Saffron Walden', 'AddressLine3': 'Essex', 'AddressLine4': '', 'PostCode': 'CB10 1HD', 'Phone': '', 'RatingValue': '0', 'RatingKey': 'fhrs_0_en-gb', 'RatingDate': '2022-03-31T00:00:00', 'LocalAuthorityCode': '122', 'LocalAuthorityName': 'Uttlesford', 'LocalAuthorityWebSite': 'http://www.uttlesford.gov.uk', 'LocalAuthorityEmailAddress': 'environmentalhealth@uttlesford.gov.uk', 'scores': {'Hygiene': 20, 'Structural': 15, 'ConfidenceInManagement': 20}, 'SchemeType': 'FHRS', 'geocode': {'longitude': Decimal128('0.240491'), 'latitude': Decimal128('52.02328')}, 'RightToReply': '', 'Distance': 4661.334349371914, 'NewRatingPending': False, 'meta': {'dataSource': None, 'extractDate': '0001-01-01T00:00:00', 'itemCount': 0, 'returncode': None, 'totalCount': 0, 'totalPages': 0, 'pageSize': 0, 'pageNumber': 0}, 'links': [{'rel': 'self', 'href': 'http://api.ratings.food.gov.uk/establishments/107710'}]}]\n"
     ]
    }
   ],
   "source": [
    "documents = list(collection.find(query))\n",
    "print(documents)  # Add this line to debug\n"
   ]
  },
  {
   "cell_type": "code",
   "execution_count": 10,
   "id": "102a4da0",
   "metadata": {},
   "outputs": [],
   "source": [
    "from bson.decimal128 import Decimal128\n"
   ]
  },
  {
   "cell_type": "code",
   "execution_count": 13,
   "id": "74d6028a",
   "metadata": {},
   "outputs": [
    {
     "name": "stdout",
     "output_type": "stream",
     "text": [
      "Found 99 establishments.\n"
     ]
    }
   ],
   "source": [
    "from pymongo import MongoClient\n",
    "import pandas as pd\n",
    "\n",
    "# Connect to MongoDB\n",
    "client = MongoClient('mongodb://localhost:27017/')\n",
    "\n",
    "# Select the 'uk_food' database\n",
    "db = client['uk_food']\n",
    "\n",
    "# Access the 'establishments' collection\n",
    "collection = db['establishments']\n",
    "\n",
    "query = {\n",
    "    \"AddressLine2\": \"London\", \n",
    "    \"$or\": [\n",
    "        {\"RatingValue\": {\"$gte\": \"4\"}},  # For string comparisons\n",
    "        {\"RatingValue\": {\"$gte\": 4}}  # For numeric comparisons\n",
    "    ]\n",
    "}\n",
    "\n",
    "# Execute the query\n",
    "documents = list(collection.find(query))\n",
    "\n",
    "# Check if documents were found\n",
    "if not documents:\n",
    "    print(\"No establishments found with the specified criteria.\")\n",
    "else:\n",
    "    print(f\"Found {len(documents)} establishments.\")\n"
   ]
  },
  {
   "cell_type": "code",
   "execution_count": 14,
   "id": "b5859ac9",
   "metadata": {},
   "outputs": [
    {
     "name": "stdout",
     "output_type": "stream",
     "text": [
      "Number of rows in the DataFrame: 99\n",
      "First 10 rows of the DataFrame:\n",
      "                        _id   FHRSID  ChangesByServerID  \\\n",
      "0  65d78130e7b0e49418b4392a   294900                  0   \n",
      "1  65d78130e7b0e49418b44ebc  1408389                  0   \n",
      "2  65d78131e7b0e49418b44ecb  1438466                  0   \n",
      "3  65d78131e7b0e49418b44ed1  1156030                  0   \n",
      "4  65d78131e7b0e49418b44f57   776404                  0   \n",
      "5  65d78131e7b0e49418b44f58   930899                  0   \n",
      "6  65d78131e7b0e49418b44f73   875250                  0   \n",
      "7  65d78131e7b0e49418b44f83  1064870                  0   \n",
      "8  65d78131e7b0e49418b4502d  1223157                  0   \n",
      "9  65d78131e7b0e49418b4502e   996676                  0   \n",
      "\n",
      "  LocalAuthorityBusinessID                                       BusinessName  \\\n",
      "0             PI/000019066                                         Mv Valulla   \n",
      "1              21/00294/CP                                           Foodyz21   \n",
      "2              22/00008/CP                     Finest Chicken Peri Peri Grill   \n",
      "3             PI/000297297                                               Bona   \n",
      "4              15/00376/CP        Toddleswood Pre-School At Willowbank School   \n",
      "5              16/00266/CP  The Contract Dining Company At Willow Bank Pri...   \n",
      "6              14/00066/CP                                      The Ness Cafe   \n",
      "7              18/00191/CP                                          Turo Turo   \n",
      "8              20/00040/CP                             Falconwood Food & Wine   \n",
      "9              17/00248/CP                                        Falcon News   \n",
      "\n",
      "                BusinessType  BusinessTypeID  \\\n",
      "0    Other catering premises            7841   \n",
      "1    Restaurant/Cafe/Canteen               1   \n",
      "2     Takeaway/sandwich shop            7844   \n",
      "3    Restaurant/Cafe/Canteen               1   \n",
      "4            Caring Premises               5   \n",
      "5  School/college/university            7845   \n",
      "6    Restaurant/Cafe/Canteen               1   \n",
      "7             Mobile caterer            7846   \n",
      "8          Retailers - other            4613   \n",
      "9          Retailers - other            4613   \n",
      "\n",
      "                                        AddressLine1 AddressLine2  \\\n",
      "0  Reeds River Cruises LtdKings ReachRiver Thames...       London   \n",
      "1                                     513 Abbey Road       London   \n",
      "2                                     515 Abbey Road       London   \n",
      "3                                  25 Dartmouth Road       London   \n",
      "4                                      Seacourt Road       London   \n",
      "5                                      Seacourt Road       London   \n",
      "6                                     Belvedere Road       London   \n",
      "7                                  2 Portmeadow Walk       London   \n",
      "8                              15 Lingfield Crescent       London   \n",
      "9                               1 Lingfield Crescent       London   \n",
      "\n",
      "  AddressLine3  ...                              LocalAuthorityWebSite  \\\n",
      "0               ...  http://www.cityoflondon.gov.uk/Corporation/hom...   \n",
      "1               ...                           http://www.bexley.gov.uk   \n",
      "2               ...                           http://www.bexley.gov.uk   \n",
      "3               ...  http://www.lewisham.gov.uk/myservices/business...   \n",
      "4               ...                           http://www.bexley.gov.uk   \n",
      "5               ...                           http://www.bexley.gov.uk   \n",
      "6               ...                           http://www.bexley.gov.uk   \n",
      "7               ...                           http://www.bexley.gov.uk   \n",
      "8               ...                           http://www.bexley.gov.uk   \n",
      "9               ...                           http://www.bexley.gov.uk   \n",
      "\n",
      "             LocalAuthorityEmailAddress  \\\n",
      "0  publicprotection@cityoflondon.gov.uk   \n",
      "1             food.safety@bexley.gov.uk   \n",
      "2             food.safety@bexley.gov.uk   \n",
      "3         david.edwards@lewisham.gov.uk   \n",
      "4             food.safety@bexley.gov.uk   \n",
      "5             food.safety@bexley.gov.uk   \n",
      "6             food.safety@bexley.gov.uk   \n",
      "7             food.safety@bexley.gov.uk   \n",
      "8             food.safety@bexley.gov.uk   \n",
      "9             food.safety@bexley.gov.uk   \n",
      "\n",
      "                                              scores SchemeType  \\\n",
      "0  {'Hygiene': 0, 'Structural': 0, 'ConfidenceInM...       FHRS   \n",
      "1  {'Hygiene': 10, 'Structural': 5, 'ConfidenceIn...       FHRS   \n",
      "2  {'Hygiene': 5, 'Structural': 5, 'ConfidenceInM...       FHRS   \n",
      "3  {'Hygiene': 5, 'Structural': 5, 'ConfidenceInM...       FHRS   \n",
      "4  {'Hygiene': 0, 'Structural': 5, 'ConfidenceInM...       FHRS   \n",
      "5  {'Hygiene': 0, 'Structural': 5, 'ConfidenceInM...       FHRS   \n",
      "6  {'Hygiene': 0, 'Structural': 0, 'ConfidenceInM...       FHRS   \n",
      "7  {'Hygiene': 0, 'Structural': 0, 'ConfidenceInM...       FHRS   \n",
      "8  {'Hygiene': 0, 'Structural': 10, 'ConfidenceIn...       FHRS   \n",
      "9  {'Hygiene': 0, 'Structural': 5, 'ConfidenceInM...       FHRS   \n",
      "\n",
      "                                             geocode RightToReply  \\\n",
      "0     {'longitude': 0.287555, 'latitude': 51.504071}                \n",
      "1      {'longitude': 0.121862, 'latitude': 51.48992}                \n",
      "2    {'longitude': 0.121542, 'latitude': 51.4899259}                \n",
      "3   {'longitude': 0.0143445, 'latitude': 51.3831202}                \n",
      "4     {'longitude': 0.125247, 'latitude': 51.497376}                \n",
      "5     {'longitude': 0.125247, 'latitude': 51.497376}                \n",
      "6     {'longitude': 0.133478, 'latitude': 51.506094}                \n",
      "7  {'longitude': 0.125036999583244, 'latitude': 5...                \n",
      "8       {'longitude': 0.08122, 'latitude': 51.45912}                \n",
      "9  {'longitude': 0.0812200009822845, 'latitude': ...                \n",
      "\n",
      "      Distance NewRatingPending  \\\n",
      "0  4640.460834            False   \n",
      "1  4645.974290            False   \n",
      "2  4645.986171            False   \n",
      "3  4645.989753            False   \n",
      "4  4646.124520            False   \n",
      "5  4646.124520            False   \n",
      "6  4646.144584            False   \n",
      "7  4646.170654            False   \n",
      "8  4646.327301            False   \n",
      "9  4646.327364            False   \n",
      "\n",
      "                                                meta  \\\n",
      "0  {'dataSource': None, 'extractDate': '0001-01-0...   \n",
      "1  {'dataSource': None, 'extractDate': '0001-01-0...   \n",
      "2  {'dataSource': None, 'extractDate': '0001-01-0...   \n",
      "3  {'dataSource': None, 'extractDate': '0001-01-0...   \n",
      "4  {'dataSource': None, 'extractDate': '0001-01-0...   \n",
      "5  {'dataSource': None, 'extractDate': '0001-01-0...   \n",
      "6  {'dataSource': None, 'extractDate': '0001-01-0...   \n",
      "7  {'dataSource': None, 'extractDate': '0001-01-0...   \n",
      "8  {'dataSource': None, 'extractDate': '0001-01-0...   \n",
      "9  {'dataSource': None, 'extractDate': '0001-01-0...   \n",
      "\n",
      "                                               links  \n",
      "0  [{'rel': 'self', 'href': 'http://api.ratings.f...  \n",
      "1  [{'rel': 'self', 'href': 'http://api.ratings.f...  \n",
      "2  [{'rel': 'self', 'href': 'http://api.ratings.f...  \n",
      "3  [{'rel': 'self', 'href': 'http://api.ratings.f...  \n",
      "4  [{'rel': 'self', 'href': 'http://api.ratings.f...  \n",
      "5  [{'rel': 'self', 'href': 'http://api.ratings.f...  \n",
      "6  [{'rel': 'self', 'href': 'http://api.ratings.f...  \n",
      "7  [{'rel': 'self', 'href': 'http://api.ratings.f...  \n",
      "8  [{'rel': 'self', 'href': 'http://api.ratings.f...  \n",
      "9  [{'rel': 'self', 'href': 'http://api.ratings.f...  \n",
      "\n",
      "[10 rows x 28 columns]\n"
     ]
    }
   ],
   "source": [
    "# Convert the query result to a Pandas DataFrame\n",
    "df = pd.DataFrame(documents)\n",
    "\n",
    "# Display the number of rows in the DataFrame\n",
    "print(f\"Number of rows in the DataFrame: {len(df)}\")\n",
    "\n",
    "# Display the first 10 rows of the DataFrame\n",
    "print(\"First 10 rows of the DataFrame:\")\n",
    "print(df.head(10))\n"
   ]
  },
  {
   "cell_type": "markdown",
   "id": "0ef4395a",
   "metadata": {},
   "source": [
    "### 2. Which establishments in London have a `RatingValue` greater than or equal to 4?"
   ]
  },
  {
   "cell_type": "code",
   "execution_count": 15,
   "id": "93c63829",
   "metadata": {},
   "outputs": [
    {
     "name": "stdout",
     "output_type": "stream",
     "text": [
      "Number of establishments with 'London' as the Local Authority and a RatingValue >= 4: 0\n",
      "First document matching the criteria:\n",
      "None\n"
     ]
    }
   ],
   "source": [
    "from pymongo import MongoClient\n",
    "from pprint import pprint\n",
    "\n",
    "# Connect to MongoDB\n",
    "client = MongoClient('mongodb://localhost:27017/')\n",
    "\n",
    "# Select the 'uk_food' database\n",
    "db = client['uk_food']\n",
    "\n",
    "# Access the 'establishments' collection\n",
    "collection = db['establishments']\n",
    "\n",
    "# Define the query for establishments with \"London\" as the Local Authority\n",
    "# and a RatingValue greater than or equal to 4\n",
    "query = {\n",
    "    \"LocalAuthorityName\": \"London\",  \n",
    "    \"$or\": [\n",
    "        {\"RatingValue\": {\"$gte\": \"4\"}},  # Assumes RatingValue can be a string\n",
    "        {\"RatingValue\": {\"$gte\": 4}}     # Assumes RatingValue can also be numeric\n",
    "    ]\n",
    "}\n",
    "\n",
    "# Use count_documents to display the number of documents in the result\n",
    "count = collection.count_documents(query)\n",
    "print(f\"Number of establishments with 'London' as the Local Authority and a RatingValue >= 4: {count}\")\n",
    "\n",
    "# Display the first document in the results using pprint\n",
    "first_document = collection.find_one(query)\n",
    "print(\"First document matching the criteria:\")\n",
    "pprint(first_document)\n"
   ]
  },
  {
   "cell_type": "code",
   "execution_count": 17,
   "id": "d783c928",
   "metadata": {},
   "outputs": [
    {
     "name": "stdout",
     "output_type": "stream",
     "text": [
      "Establishments in London: 0\n",
      "Establishments with RatingValue >= 4: 31257\n"
     ]
    }
   ],
   "source": [
    "# Check establishments in \"London\"\n",
    "count_london = collection.count_documents({\"LocalAuthorityName\": \"London\"})\n",
    "print(f\"Establishments in London: {count_london}\")\n",
    "\n",
    "# Check establishments with a RatingValue of 4 or higher (assuming string values)\n",
    "count_rating = collection.count_documents({\"RatingValue\": {\"$gte\": \"4\"}})\n",
    "print(f\"Establishments with RatingValue >= 4: {count_rating}\")\n"
   ]
  },
  {
   "cell_type": "code",
   "execution_count": 18,
   "id": "088ee2b5",
   "metadata": {},
   "outputs": [
    {
     "data": {
      "text/plain": [
       "{'LocalAuthorityName': {'$regex': '^london$', '$options': 'i'}}"
      ]
     },
     "execution_count": 18,
     "metadata": {},
     "output_type": "execute_result"
    }
   ],
   "source": [
    "{\"LocalAuthorityName\": {\"$regex\": \"^london$\", \"$options\": \"i\"}}\n"
   ]
  },
  {
   "cell_type": "code",
   "execution_count": 19,
   "id": "c99dc59e",
   "metadata": {},
   "outputs": [
    {
     "name": "stdout",
     "output_type": "stream",
     "text": [
      "['Aberdeenshire', 'Arun', 'Ashford', 'Babergh', 'Barking and Dagenham', 'Basildon', 'Bexley', 'Braintree', 'Brentwood', 'Bromley', 'Broxbourne', 'Canterbury City', 'Castle Point', 'Chelmsford', 'City of London Corporation', 'Colchester', 'Dartford', 'Dorset', 'East Hertfordshire', 'East Renfrewshire', 'East Suffolk', 'Eastbourne', 'Epping Forest', 'Folkestone and Hythe', 'Gravesham', 'Greenwich', 'Hackney', 'Harlow', 'Hastings', 'Havering', 'Ipswich', 'Kensington and Chelsea', 'Knowsley', 'Lambeth', 'Lewes', 'Lewisham', 'Maidstone', 'Maldon', 'Medway', 'Mid Sussex', 'Newham', 'North Hertfordshire', 'North Norfolk', 'Orkney Islands', 'Pendle', 'Reading', 'Redbridge', 'Rochford', 'Rother', 'Rushmoor', 'Salford', 'Sevenoaks', 'Slough', 'South Cambridgeshire', 'Southend-On-Sea', 'Spelthorne', 'Stratford-on-Avon', 'Sunderland', 'Swale', 'Tandridge', 'Tendring', 'Thanet', 'Thurrock', 'Tonbridge and Malling', 'Tower Hamlets', 'Tunbridge Wells', 'Uttlesford', 'Waltham Forest', 'Wealden', 'West Suffolk', 'York']\n"
     ]
    }
   ],
   "source": [
    "unique_las = collection.distinct(\"LocalAuthorityName\")\n",
    "print(unique_las)\n"
   ]
  },
  {
   "cell_type": "code",
   "execution_count": 20,
   "id": "800ddc79",
   "metadata": {},
   "outputs": [
    {
     "name": "stdout",
     "output_type": "stream",
     "text": [
      "Number of rows in the DataFrame: 99\n",
      "First 10 rows of the DataFrame:\n",
      "                        _id   FHRSID  ChangesByServerID  \\\n",
      "0  65d78130e7b0e49418b4392a   294900                  0   \n",
      "1  65d78130e7b0e49418b44ebc  1408389                  0   \n",
      "2  65d78131e7b0e49418b44ecb  1438466                  0   \n",
      "3  65d78131e7b0e49418b44ed1  1156030                  0   \n",
      "4  65d78131e7b0e49418b44f57   776404                  0   \n",
      "5  65d78131e7b0e49418b44f58   930899                  0   \n",
      "6  65d78131e7b0e49418b44f73   875250                  0   \n",
      "7  65d78131e7b0e49418b44f83  1064870                  0   \n",
      "8  65d78131e7b0e49418b4502d  1223157                  0   \n",
      "9  65d78131e7b0e49418b4502e   996676                  0   \n",
      "\n",
      "  LocalAuthorityBusinessID                                       BusinessName  \\\n",
      "0             PI/000019066                                         Mv Valulla   \n",
      "1              21/00294/CP                                           Foodyz21   \n",
      "2              22/00008/CP                     Finest Chicken Peri Peri Grill   \n",
      "3             PI/000297297                                               Bona   \n",
      "4              15/00376/CP        Toddleswood Pre-School At Willowbank School   \n",
      "5              16/00266/CP  The Contract Dining Company At Willow Bank Pri...   \n",
      "6              14/00066/CP                                      The Ness Cafe   \n",
      "7              18/00191/CP                                          Turo Turo   \n",
      "8              20/00040/CP                             Falconwood Food & Wine   \n",
      "9              17/00248/CP                                        Falcon News   \n",
      "\n",
      "                BusinessType  BusinessTypeID  \\\n",
      "0    Other catering premises            7841   \n",
      "1    Restaurant/Cafe/Canteen               1   \n",
      "2     Takeaway/sandwich shop            7844   \n",
      "3    Restaurant/Cafe/Canteen               1   \n",
      "4            Caring Premises               5   \n",
      "5  School/college/university            7845   \n",
      "6    Restaurant/Cafe/Canteen               1   \n",
      "7             Mobile caterer            7846   \n",
      "8          Retailers - other            4613   \n",
      "9          Retailers - other            4613   \n",
      "\n",
      "                                        AddressLine1 AddressLine2  \\\n",
      "0  Reeds River Cruises LtdKings ReachRiver Thames...       London   \n",
      "1                                     513 Abbey Road       London   \n",
      "2                                     515 Abbey Road       London   \n",
      "3                                  25 Dartmouth Road       London   \n",
      "4                                      Seacourt Road       London   \n",
      "5                                      Seacourt Road       London   \n",
      "6                                     Belvedere Road       London   \n",
      "7                                  2 Portmeadow Walk       London   \n",
      "8                              15 Lingfield Crescent       London   \n",
      "9                               1 Lingfield Crescent       London   \n",
      "\n",
      "  AddressLine3  ...                              LocalAuthorityWebSite  \\\n",
      "0               ...  http://www.cityoflondon.gov.uk/Corporation/hom...   \n",
      "1               ...                           http://www.bexley.gov.uk   \n",
      "2               ...                           http://www.bexley.gov.uk   \n",
      "3               ...  http://www.lewisham.gov.uk/myservices/business...   \n",
      "4               ...                           http://www.bexley.gov.uk   \n",
      "5               ...                           http://www.bexley.gov.uk   \n",
      "6               ...                           http://www.bexley.gov.uk   \n",
      "7               ...                           http://www.bexley.gov.uk   \n",
      "8               ...                           http://www.bexley.gov.uk   \n",
      "9               ...                           http://www.bexley.gov.uk   \n",
      "\n",
      "             LocalAuthorityEmailAddress  \\\n",
      "0  publicprotection@cityoflondon.gov.uk   \n",
      "1             food.safety@bexley.gov.uk   \n",
      "2             food.safety@bexley.gov.uk   \n",
      "3         david.edwards@lewisham.gov.uk   \n",
      "4             food.safety@bexley.gov.uk   \n",
      "5             food.safety@bexley.gov.uk   \n",
      "6             food.safety@bexley.gov.uk   \n",
      "7             food.safety@bexley.gov.uk   \n",
      "8             food.safety@bexley.gov.uk   \n",
      "9             food.safety@bexley.gov.uk   \n",
      "\n",
      "                                              scores SchemeType  \\\n",
      "0  {'Hygiene': 0, 'Structural': 0, 'ConfidenceInM...       FHRS   \n",
      "1  {'Hygiene': 10, 'Structural': 5, 'ConfidenceIn...       FHRS   \n",
      "2  {'Hygiene': 5, 'Structural': 5, 'ConfidenceInM...       FHRS   \n",
      "3  {'Hygiene': 5, 'Structural': 5, 'ConfidenceInM...       FHRS   \n",
      "4  {'Hygiene': 0, 'Structural': 5, 'ConfidenceInM...       FHRS   \n",
      "5  {'Hygiene': 0, 'Structural': 5, 'ConfidenceInM...       FHRS   \n",
      "6  {'Hygiene': 0, 'Structural': 0, 'ConfidenceInM...       FHRS   \n",
      "7  {'Hygiene': 0, 'Structural': 0, 'ConfidenceInM...       FHRS   \n",
      "8  {'Hygiene': 0, 'Structural': 10, 'ConfidenceIn...       FHRS   \n",
      "9  {'Hygiene': 0, 'Structural': 5, 'ConfidenceInM...       FHRS   \n",
      "\n",
      "                                             geocode RightToReply  \\\n",
      "0     {'longitude': 0.287555, 'latitude': 51.504071}                \n",
      "1      {'longitude': 0.121862, 'latitude': 51.48992}                \n",
      "2    {'longitude': 0.121542, 'latitude': 51.4899259}                \n",
      "3   {'longitude': 0.0143445, 'latitude': 51.3831202}                \n",
      "4     {'longitude': 0.125247, 'latitude': 51.497376}                \n",
      "5     {'longitude': 0.125247, 'latitude': 51.497376}                \n",
      "6     {'longitude': 0.133478, 'latitude': 51.506094}                \n",
      "7  {'longitude': 0.125036999583244, 'latitude': 5...                \n",
      "8       {'longitude': 0.08122, 'latitude': 51.45912}                \n",
      "9  {'longitude': 0.0812200009822845, 'latitude': ...                \n",
      "\n",
      "      Distance NewRatingPending  \\\n",
      "0  4640.460834            False   \n",
      "1  4645.974290            False   \n",
      "2  4645.986171            False   \n",
      "3  4645.989753            False   \n",
      "4  4646.124520            False   \n",
      "5  4646.124520            False   \n",
      "6  4646.144584            False   \n",
      "7  4646.170654            False   \n",
      "8  4646.327301            False   \n",
      "9  4646.327364            False   \n",
      "\n",
      "                                                meta  \\\n",
      "0  {'dataSource': None, 'extractDate': '0001-01-0...   \n",
      "1  {'dataSource': None, 'extractDate': '0001-01-0...   \n",
      "2  {'dataSource': None, 'extractDate': '0001-01-0...   \n",
      "3  {'dataSource': None, 'extractDate': '0001-01-0...   \n",
      "4  {'dataSource': None, 'extractDate': '0001-01-0...   \n",
      "5  {'dataSource': None, 'extractDate': '0001-01-0...   \n",
      "6  {'dataSource': None, 'extractDate': '0001-01-0...   \n",
      "7  {'dataSource': None, 'extractDate': '0001-01-0...   \n",
      "8  {'dataSource': None, 'extractDate': '0001-01-0...   \n",
      "9  {'dataSource': None, 'extractDate': '0001-01-0...   \n",
      "\n",
      "                                               links  \n",
      "0  [{'rel': 'self', 'href': 'http://api.ratings.f...  \n",
      "1  [{'rel': 'self', 'href': 'http://api.ratings.f...  \n",
      "2  [{'rel': 'self', 'href': 'http://api.ratings.f...  \n",
      "3  [{'rel': 'self', 'href': 'http://api.ratings.f...  \n",
      "4  [{'rel': 'self', 'href': 'http://api.ratings.f...  \n",
      "5  [{'rel': 'self', 'href': 'http://api.ratings.f...  \n",
      "6  [{'rel': 'self', 'href': 'http://api.ratings.f...  \n",
      "7  [{'rel': 'self', 'href': 'http://api.ratings.f...  \n",
      "8  [{'rel': 'self', 'href': 'http://api.ratings.f...  \n",
      "9  [{'rel': 'self', 'href': 'http://api.ratings.f...  \n",
      "\n",
      "[10 rows x 28 columns]\n"
     ]
    }
   ],
   "source": [
    "import pandas as pd\n",
    "\n",
    "# Convert the query result to a Pandas DataFrame\n",
    "df = pd.DataFrame(documents)\n",
    "\n",
    "# Display the number of rows in the DataFrame\n",
    "print(f\"Number of rows in the DataFrame: {len(df)}\")\n",
    "\n",
    "# Display the first 10 rows of the DataFrame\n",
    "print(\"First 10 rows of the DataFrame:\")\n",
    "print(df.head(10))\n"
   ]
  },
  {
   "attachments": {},
   "cell_type": "markdown",
   "id": "4e570caf",
   "metadata": {},
   "source": [
    "### 3. What are the top 5 establishments with a `RatingValue` rating value of 5, sorted by lowest hygiene score, nearest to the new restaurant added, \"Penang Flavours\"?"
   ]
  },
  {
   "cell_type": "code",
   "execution_count": 21,
   "id": "7f599f3d",
   "metadata": {},
   "outputs": [],
   "source": [
    "from bson.decimal128 import Decimal128\n",
    "\n"
   ]
  },
  {
   "cell_type": "code",
   "execution_count": 22,
   "id": "38ac4448",
   "metadata": {},
   "outputs": [
    {
     "name": "stdout",
     "output_type": "stream",
     "text": [
      "Longitude: None, Latitude: None\n"
     ]
    }
   ],
   "source": [
    "from pymongo import MongoClient\n",
    "\n",
    "# Connect to MongoDB\n",
    "client = MongoClient('mongodb://localhost:27017/')\n",
    "\n",
    "# Select the 'uk_food' database\n",
    "db = client['uk_food']\n",
    "\n",
    "# Access the 'establishments' collection\n",
    "collection = db['establishments']\n",
    "\n",
    "# Define the query to find \"Penang Flavours\" by its name\n",
    "query = {\"BusinessName\": \"Penang Flavours\"}\n",
    "\n",
    "# Execute the query to find the restaurant\n",
    "restaurant = collection.find_one(query)\n",
    "\n",
    "# Extract and print the longitude and latitude if available\n",
    "if restaurant and 'geocode' in restaurant:\n",
    "    longitude = restaurant['geocode']['longitude']\n",
    "    latitude = restaurant['geocode']['latitude']\n",
    "    print(f\"Longitude: {longitude}, Latitude: {latitude}\")\n",
    "else:\n",
    "    print(\"Restaurant not found or geocode information is missing.\")\n"
   ]
  },
  {
   "cell_type": "code",
   "execution_count": 24,
   "id": "66a351b8",
   "metadata": {},
   "outputs": [
    {
     "name": "stdout",
     "output_type": "stream",
     "text": [
      "Geocode information is missing values.\n"
     ]
    }
   ],
   "source": [
    "if restaurant and 'geocode' in restaurant and restaurant['geocode']:\n",
    "    longitude = restaurant['geocode'].get('longitude')\n",
    "    latitude = restaurant['geocode'].get('latitude')\n",
    "    if longitude and latitude:\n",
    "        # Assuming longitude and latitude are Decimal128, convert them to float for use\n",
    "        longitude_float = float(longitude.to_decimal())\n",
    "        latitude_float = float(latitude.to_decimal())\n",
    "        print(f\"Longitude (float): {longitude_float}, Latitude (float): {latitude_float}\")\n",
    "    else:\n",
    "        print(\"Geocode information is missing values.\")\n",
    "else:\n",
    "    print(\"Restaurant not found, or geocode information is missing or incomplete.\")\n"
   ]
  },
  {
   "cell_type": "code",
   "execution_count": 25,
   "id": "d5784524",
   "metadata": {},
   "outputs": [
    {
     "name": "stdout",
     "output_type": "stream",
     "text": [
      "{'_id': ObjectId('65d785161dca4d211dc82ac2'), 'BusinessName': 'Penang Flavours', 'BusinessType': 'Restaurant/Cafe/Canteen', 'BusinessTypeID': 1, 'RatingValue': None, 'RatingKey': 'fhrs_awaitinginspection_en-gb', 'RatingDate': None, 'LocalAuthorityName': 'Greenwich', 'SchemeType': 'FHRS', 'NewRatingPending': True, 'geocode': {'longitude': None, 'latitude': None}}\n",
      "{'_id': ObjectId('65d785c61dca4d211dc82ac4'), 'BusinessName': 'Penang Flavours', 'BusinessType': 'Restaurant/Cafe/Canteen', 'BusinessTypeID': 1, 'RatingValue': None, 'RatingKey': 'fhrs_awaitinginspection_en-gb', 'RatingDate': None, 'LocalAuthorityName': 'Greenwich', 'SchemeType': 'FHRS', 'NewRatingPending': True, 'geocode': {'longitude': None, 'latitude': None}}\n"
     ]
    }
   ],
   "source": [
    "from pymongo import MongoClient\n",
    "\n",
    "# Define the sort criteria and limit\n",
    "sort = [(\"scores.Hygiene\", 1)]\n",
    "limit = 5\n",
    "\n",
    "# Execute the query, sort, and limit\n",
    "results = collection.find(query).sort(sort).limit(limit)\n",
    "\n",
    "# Print the results\n",
    "for result in results:\n",
    "    print(result)\n"
   ]
  },
  {
   "cell_type": "code",
   "execution_count": 26,
   "id": "a6ad16f7",
   "metadata": {},
   "outputs": [],
   "source": [
    "from pymongo import MongoClient\n",
    "\n",
    "# Connect to MongoDB\n",
    "client = MongoClient('mongodb://localhost:27017/')\n",
    "\n",
    "# Select the 'uk_food' database\n",
    "db = client['uk_food']\n",
    "\n",
    "# Access the 'establishments' collection\n",
    "collection = db['establishments']\n",
    "\n"
   ]
  },
  {
   "cell_type": "code",
   "execution_count": 28,
   "id": "61dc6620",
   "metadata": {},
   "outputs": [],
   "source": [
    "query = {\"RatingValue\": \"5\"}\n",
    "documents = list(collection.find(query))\n"
   ]
  },
  {
   "cell_type": "code",
   "execution_count": 29,
   "id": "e1e54c17",
   "metadata": {},
   "outputs": [
    {
     "name": "stdout",
     "output_type": "stream",
     "text": [
      "Number of documents retrieved: 25816\n"
     ]
    }
   ],
   "source": [
    "print(f\"Number of documents retrieved: {len(documents)}\")\n"
   ]
  },
  {
   "cell_type": "code",
   "execution_count": 30,
   "id": "69fada3e",
   "metadata": {},
   "outputs": [
    {
     "name": "stdout",
     "output_type": "stream",
     "text": [
      "First document: {'_id': ObjectId('65d7812ce7b0e49418b3e061'), 'FHRSID': 1043695, 'ChangesByServerID': 0, 'LocalAuthorityBusinessID': 'PI/000073616', 'BusinessName': 'The Pavilion', 'BusinessType': 'Restaurant/Cafe/Canteen', 'BusinessTypeID': 1, 'AddressLine1': 'East Cliff Pavilion', 'AddressLine2': 'Wear Bay Road', 'AddressLine3': 'Folkestone', 'AddressLine4': 'Kent', 'PostCode': 'CT19 6BL', 'Phone': '', 'RatingValue': '5', 'RatingKey': 'fhrs_5_en-gb', 'RatingDate': '2018-04-04T00:00:00', 'LocalAuthorityCode': '188', 'LocalAuthorityName': 'Folkestone and Hythe', 'LocalAuthorityWebSite': 'http://www.folkestone-hythe.gov.uk', 'LocalAuthorityEmailAddress': 'foodteam@folkestone-hythe.gov.uk', 'scores': {'Hygiene': 5, 'Structural': 5, 'ConfidenceInManagement': 5}, 'SchemeType': 'FHRS', 'geocode': {'longitude': Decimal128('1.195625'), 'latitude': Decimal128('51.083812')}, 'RightToReply': '', 'Distance': 4591.765489457773, 'NewRatingPending': False, 'meta': {'dataSource': None, 'extractDate': '0001-01-01T00:00:00', 'itemCount': 0, 'returncode': None, 'totalCount': 0, 'totalPages': 0, 'pageSize': 0, 'pageNumber': 0}, 'links': [{'rel': 'self', 'href': 'https://api.ratings.food.gov.uk/establishments/1043695'}]}\n"
     ]
    }
   ],
   "source": [
    "# Print the first document to check its structure\n",
    "if documents:\n",
    "    print(\"First document:\", documents[0])\n",
    "else:\n",
    "    print(\"No documents found.\")\n"
   ]
  },
  {
   "cell_type": "code",
   "execution_count": 31,
   "id": "b7c34f0b",
   "metadata": {},
   "outputs": [
    {
     "name": "stdout",
     "output_type": "stream",
     "text": [
      "DataFrame shape: (25816, 28)\n",
      "First 10 rows of the DataFrame:\n",
      "                        _id   FHRSID  ChangesByServerID  \\\n",
      "0  65d7812ce7b0e49418b3e061  1043695                  0   \n",
      "1  65d7812ce7b0e49418b3e063   289353                  0   \n",
      "2  65d7812ce7b0e49418b3e066   289352                  0   \n",
      "3  65d7812ce7b0e49418b3e067   289560                  0   \n",
      "4  65d7812ce7b0e49418b3e069   344689                  0   \n",
      "5  65d7812ce7b0e49418b3e06a   894592                  0   \n",
      "6  65d7812ce7b0e49418b3e06b  1043701                  0   \n",
      "7  65d7812ce7b0e49418b3e06d   805703                  0   \n",
      "8  65d7812ce7b0e49418b3e06e  1071930                  0   \n",
      "9  65d7812ce7b0e49418b3e06f  1068284                  0   \n",
      "\n",
      "  LocalAuthorityBusinessID                         BusinessName  \\\n",
      "0             PI/000073616                         The Pavilion   \n",
      "1             PI/000002468  St Marys COE (aided) Primary School   \n",
      "2             PI/000002460                             The Ship   \n",
      "3             PI/000039927                              Mariner   \n",
      "4             PI/000002095             Folkestone Trawlers Shop   \n",
      "5             PI/000074396                               Docker   \n",
      "6             PI/000076360                      Pick Up Pintxos   \n",
      "7             PI/000073221            That Burger - Harbour Arm   \n",
      "8             PI/000076531                         The Club Hut   \n",
      "9             PI/000076532                        The Tea Caddy   \n",
      "\n",
      "                BusinessType  BusinessTypeID  \\\n",
      "0    Restaurant/Cafe/Canteen               1   \n",
      "1  School/college/university            7845   \n",
      "2          Pub/bar/nightclub            7843   \n",
      "3          Pub/bar/nightclub            7843   \n",
      "4          Retailers - other            4613   \n",
      "5          Retailers - other            4613   \n",
      "6     Takeaway/sandwich shop            7844   \n",
      "7     Takeaway/sandwich shop            7844   \n",
      "8          Pub/bar/nightclub            7843   \n",
      "9             Mobile caterer            7846   \n",
      "\n",
      "                                AddressLine1           AddressLine2  \\\n",
      "0                        East Cliff Pavilion          Wear Bay Road   \n",
      "1  St Marys Church Of England Primary School            Warren Road   \n",
      "2                               23 The Stade             Folkestone   \n",
      "3                               16 The Stade             Folkestone   \n",
      "4                                1 The Stade             Folkestone   \n",
      "5                         Folkestone Harbour  Harbour Approach Road   \n",
      "6                         Folkestone Harbour  Harbour Approach Road   \n",
      "7                         Folkestone Harbour  Harbour Approach Road   \n",
      "8                         Folkestone Harbour  Harbour Approach Road   \n",
      "9                         Folkestone Harbour  Harbour Approach Road   \n",
      "\n",
      "  AddressLine3  ...               LocalAuthorityWebSite  \\\n",
      "0   Folkestone  ...  http://www.folkestone-hythe.gov.uk   \n",
      "1   Folkestone  ...  http://www.folkestone-hythe.gov.uk   \n",
      "2         Kent  ...  http://www.folkestone-hythe.gov.uk   \n",
      "3         Kent  ...  http://www.folkestone-hythe.gov.uk   \n",
      "4         Kent  ...  http://www.folkestone-hythe.gov.uk   \n",
      "5   Folkestone  ...  http://www.folkestone-hythe.gov.uk   \n",
      "6   Folkestone  ...  http://www.folkestone-hythe.gov.uk   \n",
      "7   Folkestone  ...  http://www.folkestone-hythe.gov.uk   \n",
      "8   Folkestone  ...  http://www.folkestone-hythe.gov.uk   \n",
      "9   Folkestone  ...  http://www.folkestone-hythe.gov.uk   \n",
      "\n",
      "         LocalAuthorityEmailAddress  \\\n",
      "0  foodteam@folkestone-hythe.gov.uk   \n",
      "1  foodteam@folkestone-hythe.gov.uk   \n",
      "2  foodteam@folkestone-hythe.gov.uk   \n",
      "3  foodteam@folkestone-hythe.gov.uk   \n",
      "4  foodteam@folkestone-hythe.gov.uk   \n",
      "5  foodteam@folkestone-hythe.gov.uk   \n",
      "6  foodteam@folkestone-hythe.gov.uk   \n",
      "7  foodteam@folkestone-hythe.gov.uk   \n",
      "8  foodteam@folkestone-hythe.gov.uk   \n",
      "9  foodteam@folkestone-hythe.gov.uk   \n",
      "\n",
      "                                              scores SchemeType  \\\n",
      "0  {'Hygiene': 5, 'Structural': 5, 'ConfidenceInM...       FHRS   \n",
      "1  {'Hygiene': 0, 'Structural': 0, 'ConfidenceInM...       FHRS   \n",
      "2  {'Hygiene': 5, 'Structural': 5, 'ConfidenceInM...       FHRS   \n",
      "3  {'Hygiene': 0, 'Structural': 5, 'ConfidenceInM...       FHRS   \n",
      "4  {'Hygiene': 0, 'Structural': 5, 'ConfidenceInM...       FHRS   \n",
      "5  {'Hygiene': 0, 'Structural': 0, 'ConfidenceInM...       FHRS   \n",
      "6  {'Hygiene': 5, 'Structural': 5, 'ConfidenceInM...       FHRS   \n",
      "7  {'Hygiene': 5, 'Structural': 5, 'ConfidenceInM...       FHRS   \n",
      "8  {'Hygiene': 0, 'Structural': 5, 'ConfidenceInM...       FHRS   \n",
      "9  {'Hygiene': 5, 'Structural': 5, 'ConfidenceInM...       FHRS   \n",
      "\n",
      "                                             geocode RightToReply  \\\n",
      "0     {'longitude': 1.195625, 'latitude': 51.083812}                \n",
      "1     {'longitude': 1.194762, 'latitude': 51.085797}                \n",
      "2      {'longitude': 1.188537, 'latitude': 51.08084}                \n",
      "3      {'longitude': 1.188537, 'latitude': 51.08084}                \n",
      "4      {'longitude': 1.188537, 'latitude': 51.08084}                \n",
      "5  {'longitude': 1.18590330311705, 'latitude': 51...                \n",
      "6  {'longitude': 1.18590330311705, 'latitude': 51...                \n",
      "7  {'longitude': 1.18590330311705, 'latitude': 51...                \n",
      "8  {'longitude': 1.18590330311705, 'latitude': 51...                \n",
      "9  {'longitude': 1.18590330311705, 'latitude': 51...                \n",
      "\n",
      "      Distance NewRatingPending  \\\n",
      "0  4591.765489            False   \n",
      "1  4591.871474            False   \n",
      "2  4591.912145            False   \n",
      "3  4591.912145            False   \n",
      "4  4591.912145            False   \n",
      "5  4591.914705            False   \n",
      "6  4591.914705            False   \n",
      "7  4591.914705            False   \n",
      "8  4591.914705            False   \n",
      "9  4591.914705            False   \n",
      "\n",
      "                                                meta  \\\n",
      "0  {'dataSource': None, 'extractDate': '0001-01-0...   \n",
      "1  {'dataSource': None, 'extractDate': '0001-01-0...   \n",
      "2  {'dataSource': None, 'extractDate': '0001-01-0...   \n",
      "3  {'dataSource': None, 'extractDate': '0001-01-0...   \n",
      "4  {'dataSource': None, 'extractDate': '0001-01-0...   \n",
      "5  {'dataSource': None, 'extractDate': '0001-01-0...   \n",
      "6  {'dataSource': None, 'extractDate': '0001-01-0...   \n",
      "7  {'dataSource': None, 'extractDate': '0001-01-0...   \n",
      "8  {'dataSource': None, 'extractDate': '0001-01-0...   \n",
      "9  {'dataSource': None, 'extractDate': '0001-01-0...   \n",
      "\n",
      "                                               links  \n",
      "0  [{'rel': 'self', 'href': 'https://api.ratings....  \n",
      "1  [{'rel': 'self', 'href': 'https://api.ratings....  \n",
      "2  [{'rel': 'self', 'href': 'https://api.ratings....  \n",
      "3  [{'rel': 'self', 'href': 'https://api.ratings....  \n",
      "4  [{'rel': 'self', 'href': 'https://api.ratings....  \n",
      "5  [{'rel': 'self', 'href': 'https://api.ratings....  \n",
      "6  [{'rel': 'self', 'href': 'https://api.ratings....  \n",
      "7  [{'rel': 'self', 'href': 'https://api.ratings....  \n",
      "8  [{'rel': 'self', 'href': 'https://api.ratings....  \n",
      "9  [{'rel': 'self', 'href': 'https://api.ratings....  \n",
      "\n",
      "[10 rows x 28 columns]\n"
     ]
    }
   ],
   "source": [
    "import pandas as pd\n",
    "\n",
    "# Convert the query result to a Pandas DataFrame\n",
    "df = pd.DataFrame(documents)\n",
    "\n",
    "# Display the DataFrame's shape (number of rows and columns)\n",
    "print(f\"DataFrame shape: {df.shape}\")\n",
    "\n",
    "# Display the first 10 rows of the DataFrame\n",
    "print(\"First 10 rows of the DataFrame:\")\n",
    "print(df.head(10))\n"
   ]
  },
  {
   "cell_type": "code",
   "execution_count": 32,
   "id": "074081a4",
   "metadata": {},
   "outputs": [],
   "source": [
    "query = {\"RatingValue\": {\"$in\": [\"5\", 5]}}\n",
    "documents = list(collection.find(query))\n"
   ]
  },
  {
   "cell_type": "code",
   "execution_count": 33,
   "id": "fa90e058",
   "metadata": {},
   "outputs": [
    {
     "name": "stdout",
     "output_type": "stream",
     "text": [
      "Number of documents found: 25816\n",
      "First document:\n",
      "{'_id': ObjectId('65d7812ce7b0e49418b3e061'), 'FHRSID': 1043695, 'ChangesByServerID': 0, 'LocalAuthorityBusinessID': 'PI/000073616', 'BusinessName': 'The Pavilion', 'BusinessType': 'Restaurant/Cafe/Canteen', 'BusinessTypeID': 1, 'AddressLine1': 'East Cliff Pavilion', 'AddressLine2': 'Wear Bay Road', 'AddressLine3': 'Folkestone', 'AddressLine4': 'Kent', 'PostCode': 'CT19 6BL', 'Phone': '', 'RatingValue': '5', 'RatingKey': 'fhrs_5_en-gb', 'RatingDate': '2018-04-04T00:00:00', 'LocalAuthorityCode': '188', 'LocalAuthorityName': 'Folkestone and Hythe', 'LocalAuthorityWebSite': 'http://www.folkestone-hythe.gov.uk', 'LocalAuthorityEmailAddress': 'foodteam@folkestone-hythe.gov.uk', 'scores': {'Hygiene': 5, 'Structural': 5, 'ConfidenceInManagement': 5}, 'SchemeType': 'FHRS', 'geocode': {'longitude': Decimal128('1.195625'), 'latitude': Decimal128('51.083812')}, 'RightToReply': '', 'Distance': 4591.765489457773, 'NewRatingPending': False, 'meta': {'dataSource': None, 'extractDate': '0001-01-01T00:00:00', 'itemCount': 0, 'returncode': None, 'totalCount': 0, 'totalPages': 0, 'pageSize': 0, 'pageNumber': 0}, 'links': [{'rel': 'self', 'href': 'https://api.ratings.food.gov.uk/establishments/1043695'}]}\n"
     ]
    }
   ],
   "source": [
    "# Print the number of documents found\n",
    "print(f\"Number of documents found: {len(documents)}\")\n",
    "\n",
    "# If there are any documents, print the first one to inspect\n",
    "if len(documents) > 0:\n",
    "    print(\"First document:\")\n",
    "    print(documents[0])\n",
    "else:\n",
    "    print(\"No documents match the query.\")\n"
   ]
  },
  {
   "cell_type": "markdown",
   "id": "67281254",
   "metadata": {},
   "source": [
    "### 4. How many establishments in each Local Authority area have a hygiene score of 0?"
   ]
  },
  {
   "cell_type": "code",
   "execution_count": 34,
   "id": "4eeb227e",
   "metadata": {},
   "outputs": [
    {
     "name": "stdout",
     "output_type": "stream",
     "text": [
      "Number of documents in the result: 55\n",
      "First 10 results:\n",
      "{'_id': 'Thanet', 'count': 1130}\n",
      "{'_id': 'Greenwich', 'count': 882}\n",
      "{'_id': 'Maidstone', 'count': 713}\n",
      "{'_id': 'Newham', 'count': 711}\n",
      "{'_id': 'Swale', 'count': 686}\n",
      "{'_id': 'Chelmsford', 'count': 680}\n",
      "{'_id': 'Medway', 'count': 672}\n",
      "{'_id': 'Bexley', 'count': 607}\n",
      "{'_id': 'Southend-On-Sea', 'count': 586}\n",
      "{'_id': 'Tendring', 'count': 542}\n"
     ]
    }
   ],
   "source": [
    "from pymongo import MongoClient\n",
    "\n",
    "# Connect to MongoDB\n",
    "client = MongoClient('mongodb://localhost:27017/')\n",
    "\n",
    "# Select the 'uk_food' database\n",
    "db = client['uk_food']\n",
    "\n",
    "# Access the 'establishments' collection\n",
    "collection = db['establishments']\n",
    "\n",
    "# Define the aggregation pipeline\n",
    "pipeline = [\n",
    "    # Step 1: Match documents with a hygiene score of 0\n",
    "    {\"$match\": {\"scores.Hygiene\": 0}},\n",
    "    # Step 2: Group by Local Authority, count documents in each group\n",
    "    {\"$group\": {\"_id\": \"$LocalAuthorityName\", \"count\": {\"$sum\": 1}}},\n",
    "    # Step 3: Sort groups by count in descending order (highest to lowest)\n",
    "    {\"$sort\": {\"count\": -1}}\n",
    "]\n",
    "\n",
    "# Execute the pipeline\n",
    "results = list(collection.aggregate(pipeline))\n",
    "\n",
    "# Print the number of documents (groups) in the result\n",
    "print(f\"Number of documents in the result: {len(results)}\")\n",
    "\n",
    "# Print the first 10 results\n",
    "print(\"First 10 results:\")\n",
    "for result in results[:10]:\n",
    "    print(result)\n",
    "\n"
   ]
  },
  {
   "cell_type": "code",
   "execution_count": 35,
   "id": "d8aab364",
   "metadata": {},
   "outputs": [
    {
     "name": "stdout",
     "output_type": "stream",
     "text": [
      "Number of rows in the DataFrame: 55\n",
      "First 10 rows of the DataFrame:\n",
      "               _id  count\n",
      "0           Thanet   1130\n",
      "1        Greenwich    882\n",
      "2        Maidstone    713\n",
      "3           Newham    711\n",
      "4            Swale    686\n",
      "5       Chelmsford    680\n",
      "6           Medway    672\n",
      "7           Bexley    607\n",
      "8  Southend-On-Sea    586\n",
      "9         Tendring    542\n"
     ]
    }
   ],
   "source": [
    "import pandas as pd\n",
    "\n",
    "# Convert the aggregation pipeline results to a Pandas DataFrame\n",
    "df = pd.DataFrame(results)\n",
    "\n",
    "# Display the number of rows in the DataFrame\n",
    "print(f\"Number of rows in the DataFrame: {len(df)}\")\n",
    "\n",
    "# Display the first 10 rows of the DataFrame\n",
    "print(\"First 10 rows of the DataFrame:\")\n",
    "print(df.head(10))\n"
   ]
  }
 ],
 "metadata": {
  "kernelspec": {
   "display_name": "Python 3 (ipykernel)",
   "language": "python",
   "name": "python3"
  },
  "language_info": {
   "codemirror_mode": {
    "name": "ipython",
    "version": 3
   },
   "file_extension": ".py",
   "mimetype": "text/x-python",
   "name": "python",
   "nbconvert_exporter": "python",
   "pygments_lexer": "ipython3",
   "version": "3.11.4"
  }
 },
 "nbformat": 4,
 "nbformat_minor": 5
}
